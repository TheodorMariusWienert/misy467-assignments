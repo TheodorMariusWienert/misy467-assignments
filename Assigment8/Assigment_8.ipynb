{
 "cells": [
  {
   "cell_type": "code",
   "execution_count": 2,
   "metadata": {},
   "outputs": [],
   "source": [
    "import numpy as np\n",
    "import pandas as pd\n",
    "from scipy.stats import zscore"
   ]
  },
  {
   "cell_type": "code",
   "execution_count": 3,
   "metadata": {},
   "outputs": [
    {
     "name": "stdout",
     "output_type": "stream",
     "text": [
      "<class 'pandas.core.frame.DataFrame'>\n",
      "RangeIndex: 5634 entries, 0 to 5633\n",
      "Data columns (total 22 columns):\n",
      " #   Column            Non-Null Count  Dtype  \n",
      "---  ------            --------------  -----  \n",
      " 0   Unnamed: 0        5634 non-null   int64  \n",
      " 1   customerID        5634 non-null   object \n",
      " 2   gender            5589 non-null   object \n",
      " 3   SeniorCitizen     5573 non-null   float64\n",
      " 4   Partner           5594 non-null   object \n",
      " 5   Dependents        5594 non-null   object \n",
      " 6   tenure            5544 non-null   float64\n",
      " 7   PhoneService      5550 non-null   object \n",
      " 8   MultipleLines     5580 non-null   object \n",
      " 9   InternetService   5486 non-null   object \n",
      " 10  OnlineSecurity    5564 non-null   object \n",
      " 11  OnlineBackup      5528 non-null   object \n",
      " 12  DeviceProtection  5564 non-null   object \n",
      " 13  TechSupport       5564 non-null   object \n",
      " 14  StreamingTV       5529 non-null   object \n",
      " 15  StreamingMovies   5578 non-null   object \n",
      " 16  Contract          5555 non-null   object \n",
      " 17  PaperlessBilling  5594 non-null   object \n",
      " 18  PaymentMethod     5541 non-null   object \n",
      " 19  MonthlyCharges    5546 non-null   float64\n",
      " 20  TotalCharges      5569 non-null   object \n",
      " 21  Churn             5634 non-null   object \n",
      "dtypes: float64(3), int64(1), object(18)\n",
      "memory usage: 968.5+ KB\n"
     ]
    }
   ],
   "source": [
    "df = pd.read_csv('udel-churn-train.csv')\n",
    "df_test = pd.read_csv('udel-churn-test.csv')\n",
    "df.info()\n"
   ]
  },
  {
   "cell_type": "code",
   "execution_count": 4,
   "metadata": {},
   "outputs": [
    {
     "data": {
      "text/html": [
       "<div>\n",
       "<style scoped>\n",
       "    .dataframe tbody tr th:only-of-type {\n",
       "        vertical-align: middle;\n",
       "    }\n",
       "\n",
       "    .dataframe tbody tr th {\n",
       "        vertical-align: top;\n",
       "    }\n",
       "\n",
       "    .dataframe thead th {\n",
       "        text-align: right;\n",
       "    }\n",
       "</style>\n",
       "<table border=\"1\" class=\"dataframe\">\n",
       "  <thead>\n",
       "    <tr style=\"text-align: right;\">\n",
       "      <th></th>\n",
       "      <th>Unnamed: 0</th>\n",
       "      <th>customerID</th>\n",
       "      <th>gender</th>\n",
       "      <th>SeniorCitizen</th>\n",
       "      <th>Partner</th>\n",
       "      <th>Dependents</th>\n",
       "      <th>tenure</th>\n",
       "      <th>PhoneService</th>\n",
       "      <th>MultipleLines</th>\n",
       "      <th>InternetService</th>\n",
       "      <th>...</th>\n",
       "      <th>DeviceProtection</th>\n",
       "      <th>TechSupport</th>\n",
       "      <th>StreamingTV</th>\n",
       "      <th>StreamingMovies</th>\n",
       "      <th>Contract</th>\n",
       "      <th>PaperlessBilling</th>\n",
       "      <th>PaymentMethod</th>\n",
       "      <th>MonthlyCharges</th>\n",
       "      <th>TotalCharges</th>\n",
       "      <th>Churn</th>\n",
       "    </tr>\n",
       "  </thead>\n",
       "  <tbody>\n",
       "    <tr>\n",
       "      <th>0</th>\n",
       "      <td>6890</td>\n",
       "      <td>7470-DYNOE</td>\n",
       "      <td>Male</td>\n",
       "      <td>0.0</td>\n",
       "      <td>No</td>\n",
       "      <td>No</td>\n",
       "      <td>53.0</td>\n",
       "      <td>Yes</td>\n",
       "      <td>No</td>\n",
       "      <td>DSL</td>\n",
       "      <td>...</td>\n",
       "      <td>Yes</td>\n",
       "      <td>No</td>\n",
       "      <td>No</td>\n",
       "      <td>Yes</td>\n",
       "      <td>One year</td>\n",
       "      <td>Yes</td>\n",
       "      <td>Electronic check</td>\n",
       "      <td>61.10</td>\n",
       "      <td>3357.9</td>\n",
       "      <td>No</td>\n",
       "    </tr>\n",
       "    <tr>\n",
       "      <th>1</th>\n",
       "      <td>353</td>\n",
       "      <td>0219-YTZUE</td>\n",
       "      <td>Male</td>\n",
       "      <td>0.0</td>\n",
       "      <td>Yes</td>\n",
       "      <td>Yes</td>\n",
       "      <td>4.0</td>\n",
       "      <td>Yes</td>\n",
       "      <td>Yes</td>\n",
       "      <td>Fiber optic</td>\n",
       "      <td>...</td>\n",
       "      <td>Yes</td>\n",
       "      <td>No</td>\n",
       "      <td>No</td>\n",
       "      <td>No</td>\n",
       "      <td>Month-to-month</td>\n",
       "      <td>Yes</td>\n",
       "      <td>Bank transfer (automatic)</td>\n",
       "      <td>84.80</td>\n",
       "      <td>371.9</td>\n",
       "      <td>Yes</td>\n",
       "    </tr>\n",
       "    <tr>\n",
       "      <th>2</th>\n",
       "      <td>2712</td>\n",
       "      <td>5133-VRSAB</td>\n",
       "      <td>Male</td>\n",
       "      <td>0.0</td>\n",
       "      <td>No</td>\n",
       "      <td>No</td>\n",
       "      <td>8.0</td>\n",
       "      <td>No</td>\n",
       "      <td>No phone service</td>\n",
       "      <td>DSL</td>\n",
       "      <td>...</td>\n",
       "      <td>No</td>\n",
       "      <td>No</td>\n",
       "      <td>No</td>\n",
       "      <td>No</td>\n",
       "      <td>Month-to-month</td>\n",
       "      <td>No</td>\n",
       "      <td>Mailed check</td>\n",
       "      <td>29.35</td>\n",
       "      <td>216.45</td>\n",
       "      <td>No</td>\n",
       "    </tr>\n",
       "    <tr>\n",
       "      <th>3</th>\n",
       "      <td>6253</td>\n",
       "      <td>6128-DAFVY</td>\n",
       "      <td>Female</td>\n",
       "      <td>0.0</td>\n",
       "      <td>No</td>\n",
       "      <td>No</td>\n",
       "      <td>56.0</td>\n",
       "      <td>No</td>\n",
       "      <td>No phone service</td>\n",
       "      <td>DSL</td>\n",
       "      <td>...</td>\n",
       "      <td>No</td>\n",
       "      <td>No</td>\n",
       "      <td>Yes</td>\n",
       "      <td>Yes</td>\n",
       "      <td>Month-to-month</td>\n",
       "      <td>Yes</td>\n",
       "      <td>Credit card (automatic)</td>\n",
       "      <td>44.85</td>\n",
       "      <td>2564.95</td>\n",
       "      <td>No</td>\n",
       "    </tr>\n",
       "    <tr>\n",
       "      <th>4</th>\n",
       "      <td>4080</td>\n",
       "      <td>6199-IPCAO</td>\n",
       "      <td>Female</td>\n",
       "      <td>0.0</td>\n",
       "      <td>Yes</td>\n",
       "      <td>Yes</td>\n",
       "      <td>29.0</td>\n",
       "      <td>Yes</td>\n",
       "      <td>Yes</td>\n",
       "      <td>No</td>\n",
       "      <td>...</td>\n",
       "      <td>No internet service</td>\n",
       "      <td>No internet service</td>\n",
       "      <td>No internet service</td>\n",
       "      <td>No internet service</td>\n",
       "      <td>Two year</td>\n",
       "      <td>No</td>\n",
       "      <td>Mailed check</td>\n",
       "      <td>26.10</td>\n",
       "      <td>692.55</td>\n",
       "      <td>No</td>\n",
       "    </tr>\n",
       "  </tbody>\n",
       "</table>\n",
       "<p>5 rows × 22 columns</p>\n",
       "</div>"
      ],
      "text/plain": [
       "   Unnamed: 0  customerID  gender  SeniorCitizen Partner Dependents  tenure  \\\n",
       "0        6890  7470-DYNOE    Male            0.0      No         No    53.0   \n",
       "1         353  0219-YTZUE    Male            0.0     Yes        Yes     4.0   \n",
       "2        2712  5133-VRSAB    Male            0.0      No         No     8.0   \n",
       "3        6253  6128-DAFVY  Female            0.0      No         No    56.0   \n",
       "4        4080  6199-IPCAO  Female            0.0     Yes        Yes    29.0   \n",
       "\n",
       "  PhoneService     MultipleLines InternetService  ...     DeviceProtection  \\\n",
       "0          Yes                No             DSL  ...                  Yes   \n",
       "1          Yes               Yes     Fiber optic  ...                  Yes   \n",
       "2           No  No phone service             DSL  ...                   No   \n",
       "3           No  No phone service             DSL  ...                   No   \n",
       "4          Yes               Yes              No  ...  No internet service   \n",
       "\n",
       "           TechSupport          StreamingTV      StreamingMovies  \\\n",
       "0                   No                   No                  Yes   \n",
       "1                   No                   No                   No   \n",
       "2                   No                   No                   No   \n",
       "3                   No                  Yes                  Yes   \n",
       "4  No internet service  No internet service  No internet service   \n",
       "\n",
       "         Contract PaperlessBilling              PaymentMethod MonthlyCharges  \\\n",
       "0        One year              Yes           Electronic check          61.10   \n",
       "1  Month-to-month              Yes  Bank transfer (automatic)          84.80   \n",
       "2  Month-to-month               No               Mailed check          29.35   \n",
       "3  Month-to-month              Yes    Credit card (automatic)          44.85   \n",
       "4        Two year               No               Mailed check          26.10   \n",
       "\n",
       "  TotalCharges  Churn  \n",
       "0       3357.9     No  \n",
       "1        371.9    Yes  \n",
       "2       216.45     No  \n",
       "3      2564.95     No  \n",
       "4       692.55     No  \n",
       "\n",
       "[5 rows x 22 columns]"
      ]
     },
     "execution_count": 4,
     "metadata": {},
     "output_type": "execute_result"
    }
   ],
   "source": [
    "df.head()\n"
   ]
  },
  {
   "cell_type": "code",
   "execution_count": 5,
   "metadata": {},
   "outputs": [],
   "source": [
    " df['TotalCharges']=pd.to_numeric(df['TotalCharges'], errors='coerce')\n",
    "\n",
    "    "
   ]
  },
  {
   "cell_type": "code",
   "execution_count": 6,
   "metadata": {},
   "outputs": [],
   "source": [
    "num_features = ['tenure', 'MonthlyCharges', 'TotalCharges',]\n",
    "cat_features = ['gender','SeniorCitizen', 'Partner','Dependents','PhoneService','MultipleLines','InternetService','OnlineSecurity','OnlineBackup','DeviceProtection','TechSupport','StreamingTV','StreamingMovies','Contract','PaperlessBilling','PaymentMethod']\n"
   ]
  },
  {
   "cell_type": "code",
   "execution_count": 7,
   "metadata": {},
   "outputs": [
    {
     "name": "stdout",
     "output_type": "stream",
     "text": [
      "<class 'pandas.core.frame.DataFrame'>\n",
      "Int64Index: 5446 entries, 0 to 5633\n",
      "Data columns (total 22 columns):\n",
      " #   Column            Non-Null Count  Dtype  \n",
      "---  ------            --------------  -----  \n",
      " 0   Unnamed: 0        5446 non-null   int64  \n",
      " 1   customerID        5446 non-null   object \n",
      " 2   gender            5441 non-null   object \n",
      " 3   SeniorCitizen     5426 non-null   float64\n",
      " 4   Partner           5446 non-null   object \n",
      " 5   Dependents        5446 non-null   object \n",
      " 6   tenure            5446 non-null   float64\n",
      " 7   PhoneService      5416 non-null   object \n",
      " 8   MultipleLines     5446 non-null   object \n",
      " 9   InternetService   5352 non-null   object \n",
      " 10  OnlineSecurity    5430 non-null   object \n",
      " 11  OnlineBackup      5394 non-null   object \n",
      " 12  DeviceProtection  5430 non-null   object \n",
      " 13  TechSupport       5430 non-null   object \n",
      " 14  StreamingTV       5395 non-null   object \n",
      " 15  StreamingMovies   5430 non-null   object \n",
      " 16  Contract          5407 non-null   object \n",
      " 17  PaperlessBilling  5446 non-null   object \n",
      " 18  PaymentMethod     5393 non-null   object \n",
      " 19  MonthlyCharges    5446 non-null   float64\n",
      " 20  TotalCharges      5446 non-null   float64\n",
      " 21  Churn             5446 non-null   object \n",
      "dtypes: float64(4), int64(1), object(17)\n",
      "memory usage: 978.6+ KB\n"
     ]
    }
   ],
   "source": [
    "for col in num_features:\n",
    "    col_zscore = col + '_zscore'\n",
    "    #X[col_zscore] = (df[col] - df[col].mean())/df[col].std(ddof=0)\n",
    "    df = df[(np.abs( (df[col] - df[col].mean())/df[col].std(ddof=0))< 3)]\n",
    "    \n",
    "df.info()"
   ]
  },
  {
   "cell_type": "code",
   "execution_count": 7,
   "metadata": {},
   "outputs": [
    {
     "name": "stdout",
     "output_type": "stream",
     "text": [
      "<class 'pandas.core.frame.DataFrame'>\n",
      "Int64Index: 5446 entries, 0 to 5633\n",
      "Data columns (total 21 columns):\n",
      " #   Column            Non-Null Count  Dtype  \n",
      "---  ------            --------------  -----  \n",
      " 0   Unnamed: 0        5446 non-null   int64  \n",
      " 1   customerID        5446 non-null   object \n",
      " 2   gender            5441 non-null   object \n",
      " 3   SeniorCitizen     5426 non-null   float64\n",
      " 4   Partner           5446 non-null   object \n",
      " 5   Dependents        5446 non-null   object \n",
      " 6   tenure            5446 non-null   float64\n",
      " 7   PhoneService      5416 non-null   object \n",
      " 8   MultipleLines     5446 non-null   object \n",
      " 9   InternetService   5352 non-null   object \n",
      " 10  OnlineSecurity    5430 non-null   object \n",
      " 11  OnlineBackup      5394 non-null   object \n",
      " 12  DeviceProtection  5430 non-null   object \n",
      " 13  TechSupport       5430 non-null   object \n",
      " 14  StreamingTV       5395 non-null   object \n",
      " 15  StreamingMovies   5430 non-null   object \n",
      " 16  Contract          5407 non-null   object \n",
      " 17  PaperlessBilling  5446 non-null   object \n",
      " 18  PaymentMethod     5393 non-null   object \n",
      " 19  MonthlyCharges    5446 non-null   float64\n",
      " 20  TotalCharges      5446 non-null   float64\n",
      "dtypes: float64(4), int64(1), object(16)\n",
      "memory usage: 936.0+ KB\n"
     ]
    }
   ],
   "source": [
    "X = df.drop(['Churn'], axis=1)\n",
    "y = df['Churn']\n",
    "X.info()"
   ]
  },
  {
   "cell_type": "code",
   "execution_count": 8,
   "metadata": {},
   "outputs": [
    {
     "name": "stdout",
     "output_type": "stream",
     "text": [
      "<class 'pandas.core.frame.DataFrame'>\n",
      "Int64Index: 5446 entries, 0 to 5633\n",
      "Data columns (total 21 columns):\n",
      " #   Column            Non-Null Count  Dtype  \n",
      "---  ------            --------------  -----  \n",
      " 0   Unnamed: 0        5446 non-null   int64  \n",
      " 1   customerID        5446 non-null   object \n",
      " 2   gender            5441 non-null   object \n",
      " 3   SeniorCitizen     5426 non-null   float64\n",
      " 4   Partner           5446 non-null   object \n",
      " 5   Dependents        5446 non-null   object \n",
      " 6   tenure            5446 non-null   float64\n",
      " 7   PhoneService      5416 non-null   object \n",
      " 8   MultipleLines     5446 non-null   object \n",
      " 9   InternetService   5352 non-null   object \n",
      " 10  OnlineSecurity    5430 non-null   object \n",
      " 11  OnlineBackup      5394 non-null   object \n",
      " 12  DeviceProtection  5430 non-null   object \n",
      " 13  TechSupport       5430 non-null   object \n",
      " 14  StreamingTV       5395 non-null   object \n",
      " 15  StreamingMovies   5430 non-null   object \n",
      " 16  Contract          5407 non-null   object \n",
      " 17  PaperlessBilling  5446 non-null   object \n",
      " 18  PaymentMethod     5393 non-null   object \n",
      " 19  MonthlyCharges    5446 non-null   float64\n",
      " 20  TotalCharges      5446 non-null   float64\n",
      "dtypes: float64(4), int64(1), object(16)\n",
      "memory usage: 936.0+ KB\n"
     ]
    }
   ],
   "source": [
    "#X['SeniorCitizen'].replace({0: 'No', 1:'Yes'},inplace=True)\n",
    "X.info()"
   ]
  },
  {
   "cell_type": "code",
   "execution_count": 9,
   "metadata": {},
   "outputs": [
    {
     "name": "stdout",
     "output_type": "stream",
     "text": [
      "(4084, 21)\n",
      "(1362, 21)\n"
     ]
    }
   ],
   "source": [
    "from sklearn.model_selection import train_test_split\n",
    "X_train, X_test, y_train, y_test = train_test_split(X, y, test_size=0.25, random_state=24)\n",
    "\n",
    "print(X_train.shape)\n",
    "print(X_test.shape)\n"
   ]
  },
  {
   "cell_type": "code",
   "execution_count": 10,
   "metadata": {},
   "outputs": [],
   "source": [
    "\n",
    "\n",
    "from sklearn.pipeline import Pipeline\n",
    "from sklearn.impute import SimpleImputer\n",
    "from sklearn.preprocessing import StandardScaler, OneHotEncoder\n",
    "num_pipeline = Pipeline(\n",
    "    steps=[\n",
    "        ('num_imputer', SimpleImputer()),\n",
    "        ('scaler', StandardScaler()),\n",
    "        ]\n",
    ")\n",
    "cat_pipeline = Pipeline(\n",
    "    steps=[\n",
    "        ('cat_imputer', SimpleImputer(strategy='most_frequent')),\n",
    "        ('onehot', OneHotEncoder()),\n",
    "    ]\n",
    ")\n",
    "from sklearn.compose import ColumnTransformer\n",
    "\n",
    "preprocessor = ColumnTransformer(\n",
    "    transformers=[\n",
    "        ('num_pipeline', num_pipeline, num_features),\n",
    "        ('cat_pipeline', cat_pipeline, cat_features),\n",
    "    ]\n",
    ")\n",
    "from sklearn.tree import DecisionTreeClassifier\n",
    "\n",
    "tree_final_pipeline = Pipeline(\n",
    "    steps=[\n",
    "        ('preprocessor', preprocessor),\n",
    "        ('tree_clf', DecisionTreeClassifier()),\n",
    "    ]\n",
    ")"
   ]
  },
  {
   "cell_type": "code",
   "execution_count": 11,
   "metadata": {},
   "outputs": [
    {
     "data": {
      "text/plain": [
       "GridSearchCV(cv=6, error_score=nan,\n",
       "             estimator=Pipeline(memory=None,\n",
       "                                steps=[('preprocessor',\n",
       "                                        ColumnTransformer(n_jobs=None,\n",
       "                                                          remainder='drop',\n",
       "                                                          sparse_threshold=0.3,\n",
       "                                                          transformer_weights=None,\n",
       "                                                          transformers=[('num_pipeline',\n",
       "                                                                         Pipeline(memory=None,\n",
       "                                                                                  steps=[('num_imputer',\n",
       "                                                                                          SimpleImputer(add_indicator=False,\n",
       "                                                                                                        copy=True,\n",
       "                                                                                                        fill_value=None,\n",
       "                                                                                                        missing_values=nan,\n",
       "                                                                                                        strategy='mean',\n",
       "                                                                                                        v...\n",
       "                                                               presort='deprecated',\n",
       "                                                               random_state=None,\n",
       "                                                               splitter='best'))],\n",
       "                                verbose=False),\n",
       "             iid='deprecated', n_jobs=None,\n",
       "             param_grid=[{'preprocessor__num_pipeline__num_imputer__strategy': ['mean',\n",
       "                                                                                'median'],\n",
       "                          'tree_clf__criterion': ['gini', 'entropy'],\n",
       "                          'tree_clf__max_depth': [3, 4, 5, 6, 7, 8, 9, 10,\n",
       "                                                  11]}],\n",
       "             pre_dispatch='2*n_jobs', refit=True, return_train_score=True,\n",
       "             scoring='accuracy', verbose=0)"
      ]
     },
     "execution_count": 11,
     "metadata": {},
     "output_type": "execute_result"
    }
   ],
   "source": [
    "from sklearn.model_selection import GridSearchCV\n",
    "param_grid = [\n",
    "    {\n",
    "        'preprocessor__num_pipeline__num_imputer__strategy': ['mean', 'median'],\n",
    "        'tree_clf__criterion': ['gini', 'entropy'], \n",
    "        'tree_clf__max_depth': [3, 4, 5, 6, 7,8,9,10,11],\n",
    "    }\n",
    "]\n",
    "grid_search = GridSearchCV(tree_final_pipeline, param_grid, cv=6,\n",
    "                          scoring='accuracy',\n",
    "                          return_train_score=True)\n",
    "grid_search.fit(X_train, y_train)"
   ]
  },
  {
   "cell_type": "code",
   "execution_count": 12,
   "metadata": {},
   "outputs": [
    {
     "data": {
      "text/plain": [
       "{'preprocessor__num_pipeline__num_imputer__strategy': 'median',\n",
       " 'tree_clf__criterion': 'entropy',\n",
       " 'tree_clf__max_depth': 5}"
      ]
     },
     "execution_count": 12,
     "metadata": {},
     "output_type": "execute_result"
    }
   ],
   "source": [
    "grid_search.best_params_"
   ]
  },
  {
   "cell_type": "code",
   "execution_count": 13,
   "metadata": {},
   "outputs": [
    {
     "name": "stdout",
     "output_type": "stream",
     "text": [
      "accuracy is: 0.7808496012208114 for parameters: {'preprocessor__num_pipeline__num_imputer__strategy': 'mean', 'tree_clf__criterion': 'gini', 'tree_clf__max_depth': 3}\n",
      "accuracy is: 0.7862388788114365 for parameters: {'preprocessor__num_pipeline__num_imputer__strategy': 'mean', 'tree_clf__criterion': 'gini', 'tree_clf__max_depth': 4}\n",
      "accuracy is: 0.7867287149808528 for parameters: {'preprocessor__num_pipeline__num_imputer__strategy': 'mean', 'tree_clf__criterion': 'gini', 'tree_clf__max_depth': 5}\n",
      "accuracy is: 0.7754642826293513 for parameters: {'preprocessor__num_pipeline__num_imputer__strategy': 'mean', 'tree_clf__criterion': 'gini', 'tree_clf__max_depth': 6}\n",
      "accuracy is: 0.7698342259076906 for parameters: {'preprocessor__num_pipeline__num_imputer__strategy': 'mean', 'tree_clf__criterion': 'gini', 'tree_clf__max_depth': 7}\n",
      "accuracy is: 0.7593036480377761 for parameters: {'preprocessor__num_pipeline__num_imputer__strategy': 'mean', 'tree_clf__criterion': 'gini', 'tree_clf__max_depth': 8}\n",
      "accuracy is: 0.7458362126054533 for parameters: {'preprocessor__num_pipeline__num_imputer__strategy': 'mean', 'tree_clf__criterion': 'gini', 'tree_clf__max_depth': 9}\n",
      "accuracy is: 0.745346016527022 for parameters: {'preprocessor__num_pipeline__num_imputer__strategy': 'mean', 'tree_clf__criterion': 'gini', 'tree_clf__max_depth': 10}\n",
      "accuracy is: 0.7416702657568166 for parameters: {'preprocessor__num_pipeline__num_imputer__strategy': 'mean', 'tree_clf__criterion': 'gini', 'tree_clf__max_depth': 11}\n",
      "accuracy is: 0.7808496012208114 for parameters: {'preprocessor__num_pipeline__num_imputer__strategy': 'mean', 'tree_clf__criterion': 'entropy', 'tree_clf__max_depth': 3}\n",
      "accuracy is: 0.7867290748898679 for parameters: {'preprocessor__num_pipeline__num_imputer__strategy': 'mean', 'tree_clf__criterion': 'entropy', 'tree_clf__max_depth': 4}\n",
      "accuracy is: 0.7904030261149981 for parameters: {'preprocessor__num_pipeline__num_imputer__strategy': 'mean', 'tree_clf__criterion': 'entropy', 'tree_clf__max_depth': 5}\n",
      "accuracy is: 0.7828100256255218 for parameters: {'preprocessor__num_pipeline__num_imputer__strategy': 'mean', 'tree_clf__criterion': 'entropy', 'tree_clf__max_depth': 6}\n",
      "accuracy is: 0.7766912124614898 for parameters: {'preprocessor__num_pipeline__num_imputer__strategy': 'mean', 'tree_clf__criterion': 'entropy', 'tree_clf__max_depth': 7}\n",
      "accuracy is: 0.7642038092770148 for parameters: {'preprocessor__num_pipeline__num_imputer__strategy': 'mean', 'tree_clf__criterion': 'entropy', 'tree_clf__max_depth': 8}\n",
      "accuracy is: 0.7558805533961014 for parameters: {'preprocessor__num_pipeline__num_imputer__strategy': 'mean', 'tree_clf__criterion': 'entropy', 'tree_clf__max_depth': 9}\n",
      "accuracy is: 0.7480420949583945 for parameters: {'preprocessor__num_pipeline__num_imputer__strategy': 'mean', 'tree_clf__criterion': 'entropy', 'tree_clf__max_depth': 10}\n",
      "accuracy is: 0.7421708991966831 for parameters: {'preprocessor__num_pipeline__num_imputer__strategy': 'mean', 'tree_clf__criterion': 'entropy', 'tree_clf__max_depth': 11}\n",
      "accuracy is: 0.7808496012208114 for parameters: {'preprocessor__num_pipeline__num_imputer__strategy': 'median', 'tree_clf__criterion': 'gini', 'tree_clf__max_depth': 3}\n",
      "accuracy is: 0.7857494025510351 for parameters: {'preprocessor__num_pipeline__num_imputer__strategy': 'median', 'tree_clf__criterion': 'gini', 'tree_clf__max_depth': 4}\n",
      "accuracy is: 0.7872181912412541 for parameters: {'preprocessor__num_pipeline__num_imputer__strategy': 'median', 'tree_clf__criterion': 'gini', 'tree_clf__max_depth': 5}\n",
      "accuracy is: 0.7761984970199535 for parameters: {'preprocessor__num_pipeline__num_imputer__strategy': 'median', 'tree_clf__criterion': 'gini', 'tree_clf__max_depth': 6}\n",
      "accuracy is: 0.7698335060896606 for parameters: {'preprocessor__num_pipeline__num_imputer__strategy': 'median', 'tree_clf__criterion': 'gini', 'tree_clf__max_depth': 7}\n",
      "accuracy is: 0.759304367855806 for parameters: {'preprocessor__num_pipeline__num_imputer__strategy': 'median', 'tree_clf__criterion': 'gini', 'tree_clf__max_depth': 8}\n",
      "accuracy is: 0.7473053612046874 for parameters: {'preprocessor__num_pipeline__num_imputer__strategy': 'median', 'tree_clf__criterion': 'gini', 'tree_clf__max_depth': 9}\n",
      "accuracy is: 0.7465700670870404 for parameters: {'preprocessor__num_pipeline__num_imputer__strategy': 'median', 'tree_clf__criterion': 'gini', 'tree_clf__max_depth': 10}\n",
      "accuracy is: 0.7404498142869483 for parameters: {'preprocessor__num_pipeline__num_imputer__strategy': 'median', 'tree_clf__criterion': 'gini', 'tree_clf__max_depth': 11}\n",
      "accuracy is: 0.7808496012208114 for parameters: {'preprocessor__num_pipeline__num_imputer__strategy': 'median', 'tree_clf__criterion': 'entropy', 'tree_clf__max_depth': 3}\n",
      "accuracy is: 0.7867290748898679 for parameters: {'preprocessor__num_pipeline__num_imputer__strategy': 'median', 'tree_clf__criterion': 'entropy', 'tree_clf__max_depth': 4}\n",
      "accuracy is: 0.7906477642451989 for parameters: {'preprocessor__num_pipeline__num_imputer__strategy': 'median', 'tree_clf__criterion': 'entropy', 'tree_clf__max_depth': 5}\n",
      "accuracy is: 0.7825652874953212 for parameters: {'preprocessor__num_pipeline__num_imputer__strategy': 'median', 'tree_clf__criterion': 'entropy', 'tree_clf__max_depth': 6}\n",
      "accuracy is: 0.775711540122657 for parameters: {'preprocessor__num_pipeline__num_imputer__strategy': 'median', 'tree_clf__criterion': 'entropy', 'tree_clf__max_depth': 7}\n",
      "accuracy is: 0.763224496847197 for parameters: {'preprocessor__num_pipeline__num_imputer__strategy': 'median', 'tree_clf__criterion': 'entropy', 'tree_clf__max_depth': 8}\n",
      "accuracy is: 0.7544128444329273 for parameters: {'preprocessor__num_pipeline__num_imputer__strategy': 'median', 'tree_clf__criterion': 'entropy', 'tree_clf__max_depth': 9}\n",
      "accuracy is: 0.7487795485301317 for parameters: {'preprocessor__num_pipeline__num_imputer__strategy': 'median', 'tree_clf__criterion': 'entropy', 'tree_clf__max_depth': 10}\n",
      "accuracy is: 0.7426589358210244 for parameters: {'preprocessor__num_pipeline__num_imputer__strategy': 'median', 'tree_clf__criterion': 'entropy', 'tree_clf__max_depth': 11}\n"
     ]
    }
   ],
   "source": [
    "for mean_test_score, params in zip(grid_search.cv_results_['mean_test_score'], grid_search.cv_results_['params']):\n",
    "    print(f'accuracy is: {mean_test_score} for parameters: {params}')"
   ]
  },
  {
   "cell_type": "code",
   "execution_count": 14,
   "metadata": {},
   "outputs": [
    {
     "data": {
      "text/plain": [
       "Pipeline(memory=None,\n",
       "         steps=[('preprocessor',\n",
       "                 ColumnTransformer(n_jobs=None, remainder='drop',\n",
       "                                   sparse_threshold=0.3,\n",
       "                                   transformer_weights=None,\n",
       "                                   transformers=[('num_pipeline',\n",
       "                                                  Pipeline(memory=None,\n",
       "                                                           steps=[('num_imputer',\n",
       "                                                                   SimpleImputer(add_indicator=False,\n",
       "                                                                                 copy=True,\n",
       "                                                                                 fill_value=None,\n",
       "                                                                                 missing_values=nan,\n",
       "                                                                                 strategy='median',\n",
       "                                                                                 verbose=0)),\n",
       "                                                                  ('scaler',\n",
       "                                                                   StandardScaler(copy=T...\n",
       "                                                   'PaymentMethod'])],\n",
       "                                   verbose=False)),\n",
       "                ('tree_clf',\n",
       "                 DecisionTreeClassifier(ccp_alpha=0.0, class_weight=None,\n",
       "                                        criterion='entropy', max_depth=5,\n",
       "                                        max_features=None, max_leaf_nodes=None,\n",
       "                                        min_impurity_decrease=0.0,\n",
       "                                        min_impurity_split=None,\n",
       "                                        min_samples_leaf=1, min_samples_split=2,\n",
       "                                        min_weight_fraction_leaf=0.0,\n",
       "                                        presort='deprecated', random_state=None,\n",
       "                                        splitter='best'))],\n",
       "         verbose=False)"
      ]
     },
     "execution_count": 14,
     "metadata": {},
     "output_type": "execute_result"
    }
   ],
   "source": [
    "tree_clf_best = grid_search.best_estimator_\n",
    "tree_clf_best\n"
   ]
  },
  {
   "cell_type": "code",
   "execution_count": 15,
   "metadata": {},
   "outputs": [
    {
     "name": "stdout",
     "output_type": "stream",
     "text": [
      "Accuracy Score : 0.7966226138032305\n",
      "Accuracy Score : 0.7966226138032305\n"
     ]
    }
   ],
   "source": [
    "\n",
    "y_pred = tree_clf_best.predict(X_test)\n",
    "y_pred2=grid_search.predict(X_test)\n",
    "\n",
    "from sklearn.metrics import accuracy_score, recall_score, precision_score, f1_score\n",
    "\n",
    "print(f'Accuracy Score : {accuracy_score(y_test,y_pred)}')\n",
    "\n",
    "print(f'Accuracy Score : {accuracy_score(y_test,y_pred2)}')\n",
    "\n"
   ]
  },
  {
   "cell_type": "code",
   "execution_count": 292,
   "metadata": {},
   "outputs": [],
   "source": [
    "churn_test = pd.read_csv('udel-churn-test.csv')\n",
    "\n",
    "y_pred_churn = tree_clf_best.predict(churn_test)\n",
    "\n",
    "tree_full_pipeline_submit = pd.DataFrame({\n",
    "    'customerID': churn_test['customerID'],\n",
    "    'Churn': y_pred_churn\n",
    "})\n",
    "tree_full_pipeline_submit.to_csv('tree-full-pipeline-submit.csv', index=False)"
   ]
  },
  {
   "cell_type": "code",
   "execution_count": null,
   "metadata": {},
   "outputs": [],
   "source": []
  }
 ],
 "metadata": {
  "kernelspec": {
   "display_name": "Python 3",
   "language": "python",
   "name": "python3"
  },
  "language_info": {
   "codemirror_mode": {
    "name": "ipython",
    "version": 3
   },
   "file_extension": ".py",
   "mimetype": "text/x-python",
   "name": "python",
   "nbconvert_exporter": "python",
   "pygments_lexer": "ipython3",
   "version": "3.7.5"
  }
 },
 "nbformat": 4,
 "nbformat_minor": 4
}
