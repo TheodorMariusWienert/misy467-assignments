{
 "cells": [
  {
   "cell_type": "code",
   "execution_count": 50,
   "metadata": {},
   "outputs": [],
   "source": [
    "import numpy as np\n"
   ]
  },
  {
   "cell_type": "code",
   "execution_count": 51,
   "metadata": {},
   "outputs": [
    {
     "data": {
      "text/plain": [
       "0.9402859586706311"
      ]
     },
     "execution_count": 51,
     "metadata": {},
     "output_type": "execute_result"
    }
   ],
   "source": [
    "\n",
    "entropy_playGolf=-(9/14)*np.log2(9/14)-(5/14)*np.log2(5/14)\n",
    "entropy_playGolf"
   ]
  },
  {
   "cell_type": "markdown",
   "metadata": {},
   "source": [
    "|         |          | Play | Golf |    |\n",
    "|---------|----------|------|------|----|\n",
    "|         |          | yes  | No   |    |\n",
    "| Outlook | Sunny    | 3    | 2    | 5  |\n",
    "|         | Overcast | 4    | 0    | 4  |\n",
    "|         | Rainy    | 2    | 3    | 4  |\n",
    "|         |          |      |      | 14 |"
   ]
  },
  {
   "cell_type": "code",
   "execution_count": 52,
   "metadata": {},
   "outputs": [
    {
     "data": {
      "text/plain": [
       "0.6935361388961918"
      ]
     },
     "execution_count": 52,
     "metadata": {},
     "output_type": "execute_result"
    }
   ],
   "source": [
    "\n",
    "\n",
    "entropy_outlook_sunny=-(3/5)*np.log2(3/5)-(2/5)*np.log2(2/5)\n",
    "entropy_outlook_rainy=-(3/5)*np.log2(3/5)-(2/5)*np.log2(2/5)\n",
    "entropy_outlook=(5/14)*entropy_outlook_sunny+(4/14)*0+(5/14)*entropy_outlook_rainy\n",
    "entropy_outlook\n"
   ]
  },
  {
   "cell_type": "markdown",
   "metadata": {},
   "source": [
    "|      |      | Play | Golf |    |\n",
    "|------|------|------|------|----|\n",
    "|      |      | yes  | No   |    |\n",
    "| Temp | Hot  | 2    | 2    | 4  |\n",
    "|      | Mild | 4    | 2    | 6  |\n",
    "|      | Cool | 3    | 1    | 4  |\n",
    "|      |      |      |      | 14 |"
   ]
  },
  {
   "cell_type": "code",
   "execution_count": 53,
   "metadata": {},
   "outputs": [
    {
     "data": {
      "text/plain": [
       "0.9110633930116763"
      ]
     },
     "execution_count": 53,
     "metadata": {},
     "output_type": "execute_result"
    }
   ],
   "source": [
    "entropy_temp_hot=-(2/4)*np.log2(2/4)-(2/4)*np.log2(2/4)\n",
    "entropy_temp_mild=-(4/6)*np.log2(4/6)-(2/6)*np.log2(2/6)\n",
    "entropy_temp_cool=-(3/4)*np.log2(3/4)-(1/4)*np.log2(1/4)\n",
    "entropy_temp=(4/14)*entropy_temp_hot+(6/14)*entropy_temp_mild+(4/14)*entropy_temp_cool\n",
    "entropy_temp"
   ]
  },
  {
   "cell_type": "markdown",
   "metadata": {},
   "source": [
    "|          |        | Play | Golf |    |\n",
    "|----------|--------|------|------|----|\n",
    "|          |        | yes  | no   |    |\n",
    "| Humidity | High   | 3    | 4    | 7  |\n",
    "|          | Normal | 6    | 1    | 7  |\n",
    "|          |        |      |      | 14 |"
   ]
  },
  {
   "cell_type": "code",
   "execution_count": 54,
   "metadata": {},
   "outputs": [
    {
     "data": {
      "text/plain": [
       "0.7884504573082896"
      ]
     },
     "execution_count": 54,
     "metadata": {},
     "output_type": "execute_result"
    }
   ],
   "source": [
    "entropy_humidity_high=-(3/7)*np.log2(3/7)-(4/7)*np.log2(4/7)\n",
    "entropy_humidity_normal=-(6/7)*np.log2(6/7)-(1/7)*np.log2(1/7)\n",
    "entropy_humidity=(7/14)*entropy_humidity_high+(7/14)*entropy_humidity_normal\n",
    "entropy_humidity"
   ]
  },
  {
   "cell_type": "markdown",
   "metadata": {},
   "source": [
    "|       |       | Play | Golf |    |\n",
    "|-------|-------|------|------|----|\n",
    "|       |       | yes  | no   |    |\n",
    "| Windy | False | 6    | 2    | 8  |\n",
    "|       | True  | 3    | 3    | 6  |\n",
    "|       |       |      |      | 14 |"
   ]
  },
  {
   "cell_type": "code",
   "execution_count": 55,
   "metadata": {},
   "outputs": [
    {
     "data": {
      "text/plain": [
       "0.8921589282623617"
      ]
     },
     "execution_count": 55,
     "metadata": {},
     "output_type": "execute_result"
    }
   ],
   "source": [
    "entropy_windy_false=-(6/8)*np.log2(6/8)-(2/8)*np.log2(2/8)\n",
    "entropy_windy_true=-(3/6)*np.log2(3/6)-(3/6)*np.log2(3/6)\n",
    "entropy_windy=(8/14)*entropy_windy_false+(6/14)*entropy_windy_true\n",
    "entropy_windy"
   ]
  },
  {
   "cell_type": "markdown",
   "metadata": {},
   "source": [
    "I choose the outlook because i got the most information gain, because the entropy decreases the most ( its the lowest value of entropy)  \n",
    "for Overcast the entropy is 0 already so nothing more done there(If Outlook=overcast yes to Golf), I continue with sunny.\n"
   ]
  },
  {
   "cell_type": "markdown",
   "metadata": {},
   "source": [
    "| Sunny |      | Play | Golf |   |\n",
    "|-------|------|------|------|---|\n",
    "|       |      | yes  | no   |   |\n",
    "| Temp  | Mild | 2    | 1    | 3 |\n",
    "|       | Cool | 1    | 1    | 2 |\n",
    "|       |      |      |      | 5 |"
   ]
  },
  {
   "cell_type": "code",
   "execution_count": 56,
   "metadata": {},
   "outputs": [
    {
     "data": {
      "text/plain": [
       "0.9509775004326937"
      ]
     },
     "execution_count": 56,
     "metadata": {},
     "output_type": "execute_result"
    }
   ],
   "source": [
    "sunny_entropy_temp_mild=-(2/3)*np.log2(2/3)-(1/3)*np.log2(1/3)\n",
    "sunny_entropy_temp_cool=-(1/2)*np.log2(1/2)-(1/2)*np.log2(1/2)\n",
    "sunny_entropy_temp=(3/5)*sunny_entropy_temp_mild+(2/5)*sunny_entropy_temp_cool\n",
    "sunny_entropy_temp"
   ]
  },
  {
   "cell_type": "markdown",
   "metadata": {},
   "source": [
    "| Sunny    |        | Play | Golf |   |\n",
    "|----------|--------|------|------|---|\n",
    "|          |        | yes  | no   |   |\n",
    "| Humidity | High   | 1    | 1    | 2 |\n",
    "|          | Normal | 2    | 1    | 3 |\n",
    "|          |        |      |      | 5 |"
   ]
  },
  {
   "cell_type": "code",
   "execution_count": 57,
   "metadata": {},
   "outputs": [
    {
     "data": {
      "text/plain": [
       "0.9509775004326937"
      ]
     },
     "execution_count": 57,
     "metadata": {},
     "output_type": "execute_result"
    }
   ],
   "source": [
    "sunny_entropy_humidity_high=-(1/2)*np.log2(1/2)-(1/2)*np.log2(1/2)\n",
    "sunny_entropy_humidity_normal=-(2/3)*np.log2(2/3)-(1/3)*np.log2(1/3)\n",
    "sunny_entropy_humidity=(2/5)*sunny_entropy_humidity_high+(3/5)*sunny_entropy_humidity_normal\n",
    "sunny_entropy_humidity"
   ]
  },
  {
   "cell_type": "markdown",
   "metadata": {},
   "source": [
    "| Sunny |       | Play | Golf |   |\n",
    "|-------|-------|------|------|---|\n",
    "|       |       | yes  | no   |   |\n",
    "| Windy | False | 3    | 0    | 3 |\n",
    "|       | True  | 0    | 2    | 2 |\n",
    "|       |       |      |      | 5 |"
   ]
  },
  {
   "cell_type": "code",
   "execution_count": 58,
   "metadata": {},
   "outputs": [],
   "source": [
    "sunny_entropy_wind_true=0\n",
    "sunny_entropy_wind_false=0\n",
    "sunny_entropy_wind=0"
   ]
  },
  {
   "cell_type": "markdown",
   "metadata": {},
   "source": [
    "The entropy is Zero so they are leafs, so i choose Windy as next attribute after sunny. If it is sunny and  not windy yes to golf , if it is sunny and windy no to golf\n",
    "Now I calculate for Rainy"
   ]
  },
  {
   "cell_type": "markdown",
   "metadata": {},
   "source": [
    "| Rainy |      | Play | Golf |   |\n",
    "|-------|------|------|------|---|\n",
    "|       |      | yes  | no   |   |\n",
    "| Temp  | Hot  | 0    | 2    | 2 |\n",
    "|       | Mild | 1    | 1    | 2 |\n",
    "|       | Cool | 1    | 0    | 1 |\n",
    "|       |      |      |      | 5 |"
   ]
  },
  {
   "cell_type": "code",
   "execution_count": 59,
   "metadata": {},
   "outputs": [
    {
     "data": {
      "text/plain": [
       "0.4"
      ]
     },
     "execution_count": 59,
     "metadata": {},
     "output_type": "execute_result"
    }
   ],
   "source": [
    "rainy_entropy_temp_hot=0\n",
    "rainy_entropy_temp_mild=-(1/2)*np.log2(1/2)-(1/2)*np.log2(1/2)\n",
    "rainy_entropy_temp_cool=0\n",
    "rainy_entropy_temp=(2/5)*rainy_entropy_temp_mild\n",
    "rainy_entropy_temp"
   ]
  },
  {
   "cell_type": "markdown",
   "metadata": {},
   "source": [
    "| Rainy    |        | Play | Golf |   |\n",
    "|----------|--------|------|------|---|\n",
    "|          |        | yes  | no   |   |\n",
    "| Humidity | High   | 0    | 3    | 3 |\n",
    "|          | Normal | 2    | 0    | 2 |\n",
    "|          |        |      |      |   |"
   ]
  },
  {
   "cell_type": "code",
   "execution_count": 60,
   "metadata": {},
   "outputs": [],
   "source": [
    "rainy_entropy_humidity_high=0\n",
    "rainy_entropy_humidity_normal=0\n",
    "rainy_entropy_humidity=0\n"
   ]
  },
  {
   "cell_type": "markdown",
   "metadata": {},
   "source": [
    "The entropy is zero so after Rainy we choose Humidity. If its rainy and the Humidity is high no to golf, if its rainy and the humidity is normal yes to GOlf"
   ]
  },
  {
   "cell_type": "code",
   "execution_count": null,
   "metadata": {},
   "outputs": [],
   "source": []
  }
 ],
 "metadata": {
  "kernelspec": {
   "display_name": "Python 3",
   "language": "python",
   "name": "python3"
  },
  "language_info": {
   "codemirror_mode": {
    "name": "ipython",
    "version": 3
   },
   "file_extension": ".py",
   "mimetype": "text/x-python",
   "name": "python",
   "nbconvert_exporter": "python",
   "pygments_lexer": "ipython3",
   "version": "3.7.5"
  }
 },
 "nbformat": 4,
 "nbformat_minor": 4
}
