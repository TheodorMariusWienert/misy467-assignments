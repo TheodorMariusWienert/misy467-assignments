{
 "cells": [
  {
   "cell_type": "markdown",
   "metadata": {},
   "source": [
    "# Model Evaluation\n",
    "You need to use cross validation to evaluate the performance of three different decision tree models\n",
    "\n"
   ]
  },
  {
   "cell_type": "code",
   "execution_count": 67,
   "metadata": {},
   "outputs": [],
   "source": [
    "# load packages\n",
    "import numpy as np\n",
    "import pandas as pd\n",
    "import matplotlib.pyplot as plt"
   ]
  },
  {
   "cell_type": "code",
   "execution_count": 68,
   "metadata": {},
   "outputs": [
    {
     "name": "stdout",
     "output_type": "stream",
     "text": [
      "<class 'pandas.core.frame.DataFrame'>\n",
      "RangeIndex: 3333 entries, 0 to 3332\n",
      "Data columns (total 7 columns):\n",
      " #   Column                  Non-Null Count  Dtype  \n",
      "---  ------                  --------------  -----  \n",
      " 0   state                   3333 non-null   object \n",
      " 1   account length          3333 non-null   int64  \n",
      " 2   international plan      3333 non-null   object \n",
      " 3   total day minutes       3333 non-null   float64\n",
      " 4   total day calls         3333 non-null   int64  \n",
      " 5   customer service calls  3333 non-null   int64  \n",
      " 6   churn                   3333 non-null   bool   \n",
      "dtypes: bool(1), float64(1), int64(3), object(2)\n",
      "memory usage: 159.6+ KB\n"
     ]
    },
    {
     "data": {
      "text/html": [
       "<div>\n",
       "<style scoped>\n",
       "    .dataframe tbody tr th:only-of-type {\n",
       "        vertical-align: middle;\n",
       "    }\n",
       "\n",
       "    .dataframe tbody tr th {\n",
       "        vertical-align: top;\n",
       "    }\n",
       "\n",
       "    .dataframe thead th {\n",
       "        text-align: right;\n",
       "    }\n",
       "</style>\n",
       "<table border=\"1\" class=\"dataframe\">\n",
       "  <thead>\n",
       "    <tr style=\"text-align: right;\">\n",
       "      <th></th>\n",
       "      <th>state</th>\n",
       "      <th>account length</th>\n",
       "      <th>international plan</th>\n",
       "      <th>total day minutes</th>\n",
       "      <th>total day calls</th>\n",
       "      <th>customer service calls</th>\n",
       "      <th>churn</th>\n",
       "    </tr>\n",
       "  </thead>\n",
       "  <tbody>\n",
       "    <tr>\n",
       "      <th>0</th>\n",
       "      <td>KS</td>\n",
       "      <td>128</td>\n",
       "      <td>no</td>\n",
       "      <td>265.1</td>\n",
       "      <td>110</td>\n",
       "      <td>1</td>\n",
       "      <td>False</td>\n",
       "    </tr>\n",
       "    <tr>\n",
       "      <th>1</th>\n",
       "      <td>OH</td>\n",
       "      <td>107</td>\n",
       "      <td>no</td>\n",
       "      <td>161.6</td>\n",
       "      <td>123</td>\n",
       "      <td>1</td>\n",
       "      <td>False</td>\n",
       "    </tr>\n",
       "    <tr>\n",
       "      <th>2</th>\n",
       "      <td>NJ</td>\n",
       "      <td>137</td>\n",
       "      <td>no</td>\n",
       "      <td>243.4</td>\n",
       "      <td>114</td>\n",
       "      <td>0</td>\n",
       "      <td>False</td>\n",
       "    </tr>\n",
       "    <tr>\n",
       "      <th>3</th>\n",
       "      <td>OH</td>\n",
       "      <td>84</td>\n",
       "      <td>yes</td>\n",
       "      <td>299.4</td>\n",
       "      <td>71</td>\n",
       "      <td>2</td>\n",
       "      <td>False</td>\n",
       "    </tr>\n",
       "    <tr>\n",
       "      <th>4</th>\n",
       "      <td>OK</td>\n",
       "      <td>75</td>\n",
       "      <td>yes</td>\n",
       "      <td>166.7</td>\n",
       "      <td>113</td>\n",
       "      <td>3</td>\n",
       "      <td>False</td>\n",
       "    </tr>\n",
       "  </tbody>\n",
       "</table>\n",
       "</div>"
      ],
      "text/plain": [
       "  state  account length international plan  total day minutes  \\\n",
       "0    KS             128                 no              265.1   \n",
       "1    OH             107                 no              161.6   \n",
       "2    NJ             137                 no              243.4   \n",
       "3    OH              84                yes              299.4   \n",
       "4    OK              75                yes              166.7   \n",
       "\n",
       "   total day calls  customer service calls  churn  \n",
       "0              110                       1  False  \n",
       "1              123                       1  False  \n",
       "2              114                       0  False  \n",
       "3               71                       2  False  \n",
       "4              113                       3  False  "
      ]
     },
     "metadata": {},
     "output_type": "display_data"
    }
   ],
   "source": [
    "# load data\n",
    "df = pd.read_csv('customer-churn-simple.csv')\n",
    "df.info()\n",
    "display(df.head())\n",
    "\n"
   ]
  },
  {
   "cell_type": "code",
   "execution_count": 69,
   "metadata": {},
   "outputs": [],
   "source": [
    "# calculate the base line accuracy if predict all customers loyal\n",
    "# Its below\n"
   ]
  },
  {
   "cell_type": "markdown",
   "metadata": {},
   "source": [
    "## Data Preparation"
   ]
  },
  {
   "cell_type": "code",
   "execution_count": 70,
   "metadata": {},
   "outputs": [
    {
     "name": "stdout",
     "output_type": "stream",
     "text": [
      "<class 'pandas.core.frame.DataFrame'>\n",
      "RangeIndex: 3333 entries, 0 to 3332\n",
      "Data columns (total 3 columns):\n",
      " #   Column                  Non-Null Count  Dtype  \n",
      "---  ------                  --------------  -----  \n",
      " 0   account length          3333 non-null   int64  \n",
      " 1   total day minutes       3333 non-null   float64\n",
      " 2   customer service calls  3333 non-null   int64  \n",
      "dtypes: float64(1), int64(2)\n",
      "memory usage: 78.2 KB\n"
     ]
    }
   ],
   "source": [
    "# we only choose three numerical features with no data issues to train the model\n",
    "# account length, total day minutes, customer service calls\n",
    "X = df[['account length', 'total day minutes', 'customer service calls']]\n",
    "y = df['churn']\n",
    "X.info()"
   ]
  },
  {
   "cell_type": "code",
   "execution_count": 87,
   "metadata": {},
   "outputs": [
    {
     "name": "stdout",
     "output_type": "stream",
     "text": [
      "(2333, 3)\n",
      "(1000, 3)\n"
     ]
    }
   ],
   "source": [
    "# Split the data into a training set and a test set. \n",
    "# You need to use 30% of the data set as the test set.\n",
    "from sklearn.model_selection import train_test_split\n",
    "X_train, X_test, y_train, y_test = train_test_split(X, y, test_size=0.3, random_state=31)\n",
    "\n",
    "print(X_train.shape)\n",
    "print(X_test.shape)\n"
   ]
  },
  {
   "cell_type": "markdown",
   "metadata": {},
   "source": [
    "# Baseline Score Here"
   ]
  },
  {
   "cell_type": "code",
   "execution_count": 112,
   "metadata": {},
   "outputs": [],
   "source": [
    "from sklearn.metrics import make_scorer, accuracy_score, precision_score, recall_score, f1_score"
   ]
  },
  {
   "cell_type": "code",
   "execution_count": 117,
   "metadata": {},
   "outputs": [
    {
     "name": "stdout",
     "output_type": "stream",
     "text": [
      "0.854\n",
      "0.8550855085508551\n"
     ]
    }
   ],
   "source": [
    "\n",
    "false_arr=np.zeros((1000, 1), dtype=bool)\n",
    "y_base_predict=pd.DataFrame({'churn': false_arr[:, 0], })\n",
    "base_accuracy=accuracy_score(y_test,y_base_predict)\n",
    "print(base_accuracy)\n",
    "#I dont know for which I should do the baseline predict, so I did for both which made sense to me, but we never talked about baseline in class neither i find it in the example so i assume\n",
    "false_arr=np.zeros((3333, 1), dtype=bool)\n",
    "y_base_predict2=pd.DataFrame({'churn': false_arr[:, 0], })\n",
    "base_accuracy=accuracy_score(y,y_base_predict2)\n",
    "print(base_accuracy)"
   ]
  },
  {
   "cell_type": "markdown",
   "metadata": {},
   "source": [
    "## Model Evaluation"
   ]
  },
  {
   "cell_type": "code",
   "execution_count": 89,
   "metadata": {},
   "outputs": [],
   "source": [
    "# let's build three decision trees with different model parameters\n",
    "# tree 1: criterion='entropy', max_depth=3\n",
    "# tree 2: criterion='entropy', max_depth=6\n",
    "# tree 3: criterion='gini', max_depth=6\n",
    "\n",
    "from sklearn.tree import DecisionTreeClassifier\n",
    "\n",
    "tree_clf1 = DecisionTreeClassifier(criterion='entropy', max_depth=3)\n",
    "tree_clf2 = DecisionTreeClassifier(criterion='entropy', max_depth=6)\n",
    "tree_clf3 = DecisionTreeClassifier(criterion='gini', max_depth=6)"
   ]
  },
  {
   "cell_type": "code",
   "execution_count": 90,
   "metadata": {},
   "outputs": [],
   "source": [
    "# calculate accuracy, precision, recall using 10-fold cross validation\n",
    "# print out the scores for eacch tree as follows\n",
    "from sklearn.model_selection import cross_validate\n"
   ]
  },
  {
   "cell_type": "code",
   "execution_count": 91,
   "metadata": {},
   "outputs": [
    {
     "name": "stdout",
     "output_type": "stream",
     "text": [
      "Average Accuracy Scores for each model:\n",
      "Tree 1 Average Accuracy Scores: 0.883399361725542\n",
      "Tree 2 Average Accuracy Scores: 0.8765434136678772\n",
      "Tree 3 Average Accuracy Scores: 0.8799787241847328\n",
      "Average Percision Scores for each model:\n",
      "Tree 1 Average Percision Scores: 0.6972234490655543\n",
      "Tree 2 Average Percision Scores: 0.6162233538100075\n",
      "Tree 3 Average Percision Scores: 0.6453937404334497\n",
      "Average Recall Scores for each model:\n",
      "Tree 1 Average Recall Scores: 0.35008912655971475\n",
      "Tree 2 Average Recall Scores: 0.36122994652406415\n",
      "Tree 3 Average Recall Scores: 0.36140819964349374\n"
     ]
    }
   ],
   "source": [
    "score_params = {\n",
    "    'accuracy' : make_scorer(accuracy_score), \n",
    "    'precision' : make_scorer(precision_score),\n",
    "    'recall' : make_scorer(recall_score),\n",
    "    }\n",
    "\n",
    "\n",
    "\n",
    "def eval_model(model, train, test, score_params, fold):\n",
    "    model_scores = cross_validate(model, train, test, scoring=score_params, cv=fold)\n",
    "    a_mean = model_scores['test_accuracy'].mean() \n",
    "    p_mean = model_scores['test_precision'].mean() \n",
    "    r_mean = model_scores['test_recall'].mean() \n",
    "    return [a_mean, p_mean, r_mean]\n",
    "\n",
    "\n",
    "tree1_scores = eval_model(tree_clf1, X_train, y_train, score_params, 10)\n",
    "tree2_scores = eval_model(tree_clf2, X_train, y_train, score_params, 10)\n",
    "tree3_scores = eval_model(tree_clf3, X_train, y_train, score_params, 10)\n",
    "\n",
    "\n",
    "print(\"Average Accuracy Scores for each model:\")\n",
    "print(f'Tree 1 Average Accuracy Scores: {tree1_scores[0]}')\n",
    "print(f'Tree 2 Average Accuracy Scores: {tree2_scores[0]}')\n",
    "print(f'Tree 3 Average Accuracy Scores: {tree3_scores[0]}')\n",
    "\n",
    "print(\"Average Percision Scores for each model:\")\n",
    "print(f'Tree 1 Average Percision Scores: {tree1_scores[1]}')\n",
    "print(f'Tree 2 Average Percision Scores: {tree2_scores[1]}')\n",
    "print(f'Tree 3 Average Percision Scores: {tree3_scores[1]}')\n",
    "\n",
    "\n",
    "print(\"Average Recall Scores for each model:\")\n",
    "print(f'Tree 1 Average Recall Scores: {tree1_scores[2]}')\n",
    "print(f'Tree 2 Average Recall Scores: {tree2_scores[2]}')\n",
    "print(f'Tree 3 Average Recall Scores: {tree3_scores[2]}')"
   ]
  },
  {
   "cell_type": "code",
   "execution_count": 121,
   "metadata": {},
   "outputs": [
    {
     "data": {
      "text/plain": [
       "<matplotlib.legend.Legend at 0x7ff96f7a91d0>"
      ]
     },
     "execution_count": 121,
     "metadata": {},
     "output_type": "execute_result"
    },
    {
     "data": {
      "image/png": "[encoded data removed]",
      "text/plain": [
       "<Figure size 800x550 with 1 Axes>"
      ]
     },
     "metadata": {},
     "output_type": "display_data"
    }
   ],
   "source": [
    "# Visualize via a grouped bar chart as shown below\n",
    "# https://matplotlib.org/3.2.1/gallery/lines_bars_and_markers/barchart.html#sphx-glr-gallery-lines-bars-and-markers-barchart-py\n",
    "\n",
    "plt.style.use('seaborn')\n",
    "labels = ['Accuracy', 'Precision', 'Recall']\n",
    "label_loc = np.arange(len(labels)) \n",
    "bar_width = 0.2  \n",
    "\n",
    "fig, ax = plt.subplots()\n",
    "rects1 = ax.bar(label_loc - bar_width, tree1_scores, bar_width, label='Tree1', alpha=0.8)\n",
    "rects2 = ax.bar(label_loc, tree2_scores, bar_width, label='Tree2', alpha=0.8)\n",
    "rects3 = ax.bar(label_loc + bar_width, tree3_scores, bar_width, label='Tree3', alpha=0.8)\n",
    "\n",
    "ax.set_ylabel('Scores')\n",
    "ax.set_title('Model Evaluation Result')\n",
    "ax.set_xticks(label_loc)\n",
    "ax.set_xticklabels(labels)\n",
    "ax.legend()\n"
   ]
  },
  {
   "cell_type": "markdown",
   "metadata": {},
   "source": [
    "## Final Model and Prediction"
   ]
  },
  {
   "cell_type": "code",
   "execution_count": 93,
   "metadata": {},
   "outputs": [
    {
     "name": "stdout",
     "output_type": "stream",
     "text": [
      "Accuracy Score : 0.889\n",
      "Precision Score : 0.7868852459016393\n",
      "Recall Score : 0.3287671232876712\n",
      "F1 Score : 0.463768115942029\n"
     ]
    }
   ],
   "source": [
    "# choose the best model\n",
    "\n",
    "# retrain the final model using ALL training data\n",
    "tree_clf1.fit(X_train, y_train)\n",
    "\n",
    "\n",
    "\n",
    "# get the prediction results from the testing set\n",
    "y_pred = tree_clf1.predict(X_test)\n",
    "\n",
    "# calculate accuracy, precision, recall, f1-score\n",
    "from sklearn.metrics import accuracy_score, recall_score, precision_score, f1_score\n",
    "\n",
    "print(f'Accuracy Score : {accuracy_score(y_test,y_pred)}')\n",
    "print(f'Precision Score : {precision_score(y_test,y_pred)}')\n",
    "print(f'Recall Score : {recall_score(y_test,y_pred)}')\n",
    "print(f'F1 Score : {f1_score(y_test,y_pred)}')\n",
    "\n",
    "# Note: y_test is the ground truth for the tesing set\n",
    "# we have similiar score for the testing set as the cross validation score - good\n"
   ]
  },
  {
   "cell_type": "code",
   "execution_count": 98,
   "metadata": {},
   "outputs": [
    {
     "name": "stdout",
     "output_type": "stream",
     "text": [
      "Confusion Matrix: \n",
      " [[ 48  98]\n",
      " [ 13 841]]\n"
     ]
    },
    {
     "data": {
      "image/png": "[encoded data removed]",
      "text/plain": [
       "<Figure size 640x480 with 2 Axes>"
      ]
     },
     "metadata": {},
     "output_type": "display_data"
    }
   ],
   "source": [
    "# plot the confusion matrix as show below\n",
    "# you have to use the display labels with correct locations\n",
    "plt.style.use('default') # use default styple for confusion matrix plots\n",
    "\n",
    "from sklearn.metrics import plot_confusion_matrix\n",
    "class_names=[\"Churn\", \"Loyal\"]\n",
    "disp = plot_confusion_matrix(tree_clf1, X_test, y_test, labels=[1,0],display_labels=class_names)\n",
    "\n",
    "# disp.confusion_matrix returns confusion matrix as an array\n",
    "print(f'Confusion Matrix: \\n {disp.confusion_matrix}' )"
   ]
  },
  {
   "cell_type": "code",
   "execution_count": 105,
   "metadata": {},
   "outputs": [
    {
     "name": "stdout",
     "output_type": "stream",
     "text": [
      "Manual precision score: 0.7868852459016393\n",
      "Automa Precision Score : 0.7868852459016393\n"
     ]
    }
   ],
   "source": [
    "# manually calculate the precision based on the confusion matrix above and check with the generated score\n",
    "print(f\"Manual precision score: {disp.confusion_matrix[0][0]/(disp.confusion_matrix[0][0]+disp.confusion_matrix[1][0])}\")\n",
    "print(f'Automa Precision Score : {precision_score(y_test,y_pred)}')"
   ]
  }
 ],
 "metadata": {
  "kernelspec": {
   "display_name": "Python 3",
   "language": "python",
   "name": "python3"
  },
  "language_info": {
   "codemirror_mode": {
    "name": "ipython",
    "version": 3
   },
   "file_extension": ".py",
   "mimetype": "text/x-python",
   "name": "python",
   "nbconvert_exporter": "python",
   "pygments_lexer": "ipython3",
   "version": "3.7.3"
  }
 },
 "nbformat": 4,
 "nbformat_minor": 4
}
