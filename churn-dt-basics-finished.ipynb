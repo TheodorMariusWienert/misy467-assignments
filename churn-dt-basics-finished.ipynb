{
 "cells": [
  {
   "cell_type": "markdown",
   "metadata": {},
   "source": [
    "# Customer Churn Decision Tree\n",
    "\n",
    "Note: on top of `numpy`, `pandas`, `matplotlib`, you need two more packages for this assignment: `scikit-learn` (for building decision tree and other machine learning models) and \n",
    "`pydotplus` (for visualizing the decision trees), you want to add those packages to your `requirements.txt` file and install them before running this notebook."
   ]
  },
  {
   "cell_type": "code",
   "execution_count": 24,
   "metadata": {},
   "outputs": [],
   "source": [
    "# load packages\n",
    "import pandas as pd\n",
    "import numpy as np\n",
    "import matplotlib.pyplot as plt\n",
    "\n",
    "\n",
    "%matplotlib inline"
   ]
  },
  {
   "cell_type": "markdown",
   "metadata": {},
   "source": [
    "## Question 1\n",
    "- what's the shape of the dataframe created from the csv file?  \n",
    ">Shape is (3333,7)\n",
    "- how many features and what are their datatype?\n",
    ">7 features\n",
    "state is object  \n",
    "account length is int64  \n",
    "international plan is object  \n",
    "total day minutes is float64  \n",
    "total day calls is int64  \n",
    "customer service calls  is int64  \n",
    "churn is bool\n",
    "\n",
    "\n",
    "\n",
    "- are there any null values in the dataset?\n",
    ">There are zero null values\n",
    "- create a histogram for the target feature and calculate the churn rate\n",
    "- if you want to make a \"naive\" prediction on customer churn rate, what's the rule? \n",
    "> My naive prediction is that a customer is not gonna churn(leave) because the churn rate is only about 14.49%"
   ]
  },
  {
   "cell_type": "code",
   "execution_count": 7,
   "metadata": {},
   "outputs": [
    {
     "data": {
      "text/plain": [
       "(3333, 7)"
      ]
     },
     "metadata": {},
     "output_type": "display_data"
    },
    {
     "data": {
      "text/html": [
       "<div>\n",
       "<style scoped>\n",
       "    .dataframe tbody tr th:only-of-type {\n",
       "        vertical-align: middle;\n",
       "    }\n",
       "\n",
       "    .dataframe tbody tr th {\n",
       "        vertical-align: top;\n",
       "    }\n",
       "\n",
       "    .dataframe thead th {\n",
       "        text-align: right;\n",
       "    }\n",
       "</style>\n",
       "<table border=\"1\" class=\"dataframe\">\n",
       "  <thead>\n",
       "    <tr style=\"text-align: right;\">\n",
       "      <th></th>\n",
       "      <th>state</th>\n",
       "      <th>account length</th>\n",
       "      <th>international plan</th>\n",
       "      <th>total day minutes</th>\n",
       "      <th>total day calls</th>\n",
       "      <th>customer service calls</th>\n",
       "      <th>churn</th>\n",
       "    </tr>\n",
       "  </thead>\n",
       "  <tbody>\n",
       "    <tr>\n",
       "      <th>0</th>\n",
       "      <td>KS</td>\n",
       "      <td>128</td>\n",
       "      <td>no</td>\n",
       "      <td>265.1</td>\n",
       "      <td>110</td>\n",
       "      <td>1</td>\n",
       "      <td>False</td>\n",
       "    </tr>\n",
       "    <tr>\n",
       "      <th>1</th>\n",
       "      <td>OH</td>\n",
       "      <td>107</td>\n",
       "      <td>no</td>\n",
       "      <td>161.6</td>\n",
       "      <td>123</td>\n",
       "      <td>1</td>\n",
       "      <td>False</td>\n",
       "    </tr>\n",
       "    <tr>\n",
       "      <th>2</th>\n",
       "      <td>NJ</td>\n",
       "      <td>137</td>\n",
       "      <td>no</td>\n",
       "      <td>243.4</td>\n",
       "      <td>114</td>\n",
       "      <td>0</td>\n",
       "      <td>False</td>\n",
       "    </tr>\n",
       "    <tr>\n",
       "      <th>3</th>\n",
       "      <td>OH</td>\n",
       "      <td>84</td>\n",
       "      <td>yes</td>\n",
       "      <td>299.4</td>\n",
       "      <td>71</td>\n",
       "      <td>2</td>\n",
       "      <td>False</td>\n",
       "    </tr>\n",
       "    <tr>\n",
       "      <th>4</th>\n",
       "      <td>OK</td>\n",
       "      <td>75</td>\n",
       "      <td>yes</td>\n",
       "      <td>166.7</td>\n",
       "      <td>113</td>\n",
       "      <td>3</td>\n",
       "      <td>False</td>\n",
       "    </tr>\n",
       "  </tbody>\n",
       "</table>\n",
       "</div>"
      ],
      "text/plain": [
       "  state  account length international plan  total day minutes  \\\n",
       "0    KS             128                 no              265.1   \n",
       "1    OH             107                 no              161.6   \n",
       "2    NJ             137                 no              243.4   \n",
       "3    OH              84                yes              299.4   \n",
       "4    OK              75                yes              166.7   \n",
       "\n",
       "   total day calls  customer service calls  churn  \n",
       "0              110                       1  False  \n",
       "1              123                       1  False  \n",
       "2              114                       0  False  \n",
       "3               71                       2  False  \n",
       "4              113                       3  False  "
      ]
     },
     "execution_count": 7,
     "metadata": {},
     "output_type": "execute_result"
    }
   ],
   "source": [
    "# load the csv file\n",
    "df_train=pd.read_csv('customer-churn-example-simple.csv')\n"
   ]
  },
  {
   "cell_type": "code",
   "execution_count": 8,
   "metadata": {},
   "outputs": [
    {
     "name": "stdout",
     "output_type": "stream",
     "text": [
      "<class 'pandas.core.frame.DataFrame'>\n",
      "RangeIndex: 3333 entries, 0 to 3332\n",
      "Data columns (total 7 columns):\n",
      " #   Column                  Non-Null Count  Dtype  \n",
      "---  ------                  --------------  -----  \n",
      " 0   state                   3333 non-null   object \n",
      " 1   account length          3333 non-null   int64  \n",
      " 2   international plan      3333 non-null   object \n",
      " 3   total day minutes       3333 non-null   float64\n",
      " 4   total day calls         3333 non-null   int64  \n",
      " 5   customer service calls  3333 non-null   int64  \n",
      " 6   churn                   3333 non-null   bool   \n",
      "dtypes: bool(1), float64(1), int64(3), object(2)\n",
      "memory usage: 159.6+ KB\n"
     ]
    },
    {
     "data": {
      "text/plain": [
       "None"
      ]
     },
     "metadata": {},
     "output_type": "display_data"
    },
    {
     "data": {
      "text/plain": [
       "(3333, 7)"
      ]
     },
     "metadata": {},
     "output_type": "display_data"
    },
    {
     "data": {
      "text/html": [
       "<div>\n",
       "<style scoped>\n",
       "    .dataframe tbody tr th:only-of-type {\n",
       "        vertical-align: middle;\n",
       "    }\n",
       "\n",
       "    .dataframe tbody tr th {\n",
       "        vertical-align: top;\n",
       "    }\n",
       "\n",
       "    .dataframe thead th {\n",
       "        text-align: right;\n",
       "    }\n",
       "</style>\n",
       "<table border=\"1\" class=\"dataframe\">\n",
       "  <thead>\n",
       "    <tr style=\"text-align: right;\">\n",
       "      <th></th>\n",
       "      <th>state</th>\n",
       "      <th>account length</th>\n",
       "      <th>international plan</th>\n",
       "      <th>total day minutes</th>\n",
       "      <th>total day calls</th>\n",
       "      <th>customer service calls</th>\n",
       "      <th>churn</th>\n",
       "    </tr>\n",
       "  </thead>\n",
       "  <tbody>\n",
       "    <tr>\n",
       "      <th>0</th>\n",
       "      <td>KS</td>\n",
       "      <td>128</td>\n",
       "      <td>no</td>\n",
       "      <td>265.1</td>\n",
       "      <td>110</td>\n",
       "      <td>1</td>\n",
       "      <td>False</td>\n",
       "    </tr>\n",
       "    <tr>\n",
       "      <th>1</th>\n",
       "      <td>OH</td>\n",
       "      <td>107</td>\n",
       "      <td>no</td>\n",
       "      <td>161.6</td>\n",
       "      <td>123</td>\n",
       "      <td>1</td>\n",
       "      <td>False</td>\n",
       "    </tr>\n",
       "    <tr>\n",
       "      <th>2</th>\n",
       "      <td>NJ</td>\n",
       "      <td>137</td>\n",
       "      <td>no</td>\n",
       "      <td>243.4</td>\n",
       "      <td>114</td>\n",
       "      <td>0</td>\n",
       "      <td>False</td>\n",
       "    </tr>\n",
       "    <tr>\n",
       "      <th>3</th>\n",
       "      <td>OH</td>\n",
       "      <td>84</td>\n",
       "      <td>yes</td>\n",
       "      <td>299.4</td>\n",
       "      <td>71</td>\n",
       "      <td>2</td>\n",
       "      <td>False</td>\n",
       "    </tr>\n",
       "    <tr>\n",
       "      <th>4</th>\n",
       "      <td>OK</td>\n",
       "      <td>75</td>\n",
       "      <td>yes</td>\n",
       "      <td>166.7</td>\n",
       "      <td>113</td>\n",
       "      <td>3</td>\n",
       "      <td>False</td>\n",
       "    </tr>\n",
       "  </tbody>\n",
       "</table>\n",
       "</div>"
      ],
      "text/plain": [
       "  state  account length international plan  total day minutes  \\\n",
       "0    KS             128                 no              265.1   \n",
       "1    OH             107                 no              161.6   \n",
       "2    NJ             137                 no              243.4   \n",
       "3    OH              84                yes              299.4   \n",
       "4    OK              75                yes              166.7   \n",
       "\n",
       "   total day calls  customer service calls  churn  \n",
       "0              110                       1  False  \n",
       "1              123                       1  False  \n",
       "2              114                       0  False  \n",
       "3               71                       2  False  \n",
       "4              113                       3  False  "
      ]
     },
     "execution_count": 8,
     "metadata": {},
     "output_type": "execute_result"
    }
   ],
   "source": [
    "# check the basic info for the df\n",
    "display(df_train.info())\n",
    "display(df_train.shape)\n",
    "df_train.head()"
   ]
  },
  {
   "cell_type": "code",
   "execution_count": 10,
   "metadata": {},
   "outputs": [],
   "source": [
    "# change churn to string from boolean for histogram and decision tree modeling\n",
    "df_train['churn'] = df_train['churn'].apply(str)"
   ]
  },
  {
   "cell_type": "code",
   "execution_count": 11,
   "metadata": {},
   "outputs": [
    {
     "data": {
      "text/plain": [
       "<matplotlib.axes._subplots.AxesSubplot at 0x7f2baf224e48>"
      ]
     },
     "execution_count": 11,
     "metadata": {},
     "output_type": "execute_result"
    },
    {
     "data": {
      "image/png": "[encoded data removed]",
      "text/plain": [
       "<Figure size 432x288 with 1 Axes>"
      ]
     },
     "metadata": {
      "needs_background": "light"
     },
     "output_type": "display_data"
    }
   ],
   "source": [
    "# create a histogram for churn\n",
    "df_train['churn'].hist(bins=50)"
   ]
  },
  {
   "cell_type": "code",
   "execution_count": 35,
   "metadata": {},
   "outputs": [
    {
     "data": {
      "text/plain": [
       "14.491449144914492"
      ]
     },
     "execution_count": 35,
     "metadata": {},
     "output_type": "execute_result"
    }
   ],
   "source": [
    "# calculate the churn rate\n",
    "counts=df_train['churn'].value_counts()\n",
    "counts[1]/(counts[1]+counts[0])*100\n"
   ]
  },
  {
   "cell_type": "markdown",
   "metadata": {},
   "source": [
    "## Task\n",
    "Build a decision tree:\n",
    "\n",
    "- use only 'account length', 'total day calls', 'customer service calls' features\n",
    "- use entropy as the criterion and set the max depth for the tree to 4 \n",
    "- visualize the tree as shown in the sample code provided in the class. \n",
    "- explain the first node (root) of your generated tree (example each line in the node - what they mean)\n",
    "- make predictions for three customers based on the sample input found in the comments below and explain your predictions - do they make sense?\n",
    "- by looking at the decision tree image and change one value for customer 2 to flip the prediction and explain why"
   ]
  },
  {
   "cell_type": "code",
   "execution_count": 28,
   "metadata": {},
   "outputs": [
    {
     "name": "stdout",
     "output_type": "stream",
     "text": [
      "(3333, 3)\n",
      "(3333,)\n"
     ]
    },
    {
     "data": {
      "text/plain": [
       "0    False\n",
       "1    False\n",
       "2    False\n",
       "3    False\n",
       "4    False\n",
       "Name: churn, dtype: object"
      ]
     },
     "execution_count": 28,
     "metadata": {},
     "output_type": "execute_result"
    }
   ],
   "source": [
    "# build your DT using 'account length', 'total day calls', 'customer service calls' features\n",
    "X=df_train[['account length','total day calls','customer service calls']]\n",
    "Y=df_train['churn']\n",
    "print(X.shape)\n",
    "print(Y.shape)\n",
    "from sklearn.tree import DecisionTreeClassifier\n"
   ]
  },
  {
   "cell_type": "code",
   "execution_count": 27,
   "metadata": {},
   "outputs": [
    {
     "data": {
      "text/plain": [
       "DecisionTreeClassifier(ccp_alpha=0.0, class_weight=None, criterion='entropy',\n",
       "                       max_depth=3, max_features=None, max_leaf_nodes=None,\n",
       "                       min_impurity_decrease=0.0, min_impurity_split=None,\n",
       "                       min_samples_leaf=1, min_samples_split=2,\n",
       "                       min_weight_fraction_leaf=0.0, presort='deprecated',\n",
       "                       random_state=None, splitter='best')"
      ]
     },
     "execution_count": 27,
     "metadata": {},
     "output_type": "execute_result"
    }
   ],
   "source": [
    "# train a DT model\n",
    "tree_clf=DecisionTreeClassifier(criterion='entropy',max_depth=4)\n",
    "tree_clf.fit(X,Y)"
   ]
  },
  {
   "cell_type": "code",
   "execution_count": null,
   "metadata": {},
   "outputs": [],
   "source": [
    "# load the packages for visulizing the tree\n",
    "\n",
    "from IPython.display import Image \n",
    "from sklearn import tree \n",
    "import pydotplus"
   ]
  },
  {
   "cell_type": "code",
   "execution_count": 32,
   "metadata": {},
   "outputs": [
    {
     "name": "stdout",
     "output_type": "stream",
     "text": [
      "['account length', 'total day calls', 'customer service calls']\n",
      "['False', 'True']\n"
     ]
    },
    {
     "data": {
      "text/plain": [
       "['stayed', 'churn(left)']"
      ]
     },
     "execution_count": 32,
     "metadata": {},
     "output_type": "execute_result"
    }
   ],
   "source": [
    "# get feature and class names for visulization\n",
    "print(X.columns.values.tolist())\n",
    "print(Y.unique().tolist())\n",
    "cls_names=['churn(left)' if i=='True' else'stayed'for i in Y.unique().tolist()]\n",
    "cls_names"
   ]
  },
  {
   "cell_type": "code",
   "execution_count": 33,
   "metadata": {},
   "outputs": [
    {
     "data": {
      "image/png": "[encoded data removed]",
      "text/plain": [
       "<IPython.core.display.Image object>"
      ]
     },
     "execution_count": 33,
     "metadata": {},
     "output_type": "execute_result"
    }
   ],
   "source": [
    "# Create DOT data and visualize the tree\n",
    "dot_data=tree.export_graphviz(tree_clf,feature_names=X.columns.values.tolist(),class_names=cls_names,)\n",
    "graph=pydotplus.graph_from_dot_data(dot_data)\n",
    "Image(graph.create_png())"
   ]
  },
  {
   "cell_type": "markdown",
   "metadata": {},
   "source": [
    ">the tree is splitted based on the true or false of the condition customer service calls<=3.5  \n",
    "The current entropy of the node is = 0.597  \n",
    "The total number of samples in this node is 3333  \n",
    "How many samples belong to each class, 483 belong to class churn True (left) and 2850 belong to class churn False (stayed)  \n",
    "This shows the prediction of this node, because its node 0 its the naive prediction based on the churn rate of all customers, and the prediciton is that they stay"
   ]
  },
  {
   "cell_type": "code",
   "execution_count": 47,
   "metadata": {},
   "outputs": [
    {
     "name": "stdout",
     "output_type": "stream",
     "text": [
      "['True'] ['False'] ['True']\n"
     ]
    }
   ],
   "source": [
    "# make predictions for the following customers\n",
    "# customer 1 who open the account 25 days ago with total day calls of 100 and called customer support 5 times\n",
    "# customer 2 who open the account 125 days ago with total day calls of 150 and called customer support 0 times\n",
    "# customer 3 who open the account 600 days ago with total day calls of 1150 and called customer support 8 times\n",
    "customer1=tree_clf.predict([[25,100,5]])\n",
    "customer2=tree_clf.predict([[125,150,0]])\n",
    "customer3=tree_clf.predict([[600,1150,8]])\n",
    "print(customer1,customer2,customer3)"
   ]
  },
  {
   "cell_type": "markdown",
   "metadata": {},
   "source": [
    ">The first and thirs customer will churn (leave ) based on the prediciton the second one will stay.\n",
    "They make sense based on the modell, but its a bird weird that customer 3 will leave after 600 days thats a long time, but based on the modell it makes sense\n"
   ]
  },
  {
   "cell_type": "code",
   "execution_count": 46,
   "metadata": {},
   "outputs": [
    {
     "name": "stdout",
     "output_type": "stream",
     "text": [
      "['True']\n"
     ]
    }
   ],
   "source": [
    "customer2_after_change=tree_clf.predict([[125,150,3.51]])\n",
    "print(customer2_after_change)"
   ]
  },
  {
   "cell_type": "markdown",
   "metadata": {},
   "source": [
    ">I just need to change the customer service calls to a value bigger than 3.5 and than customer 2 will also churn(leave)"
   ]
  },
  {
   "cell_type": "code",
   "execution_count": null,
   "metadata": {},
   "outputs": [],
   "source": []
  }
 ],
 "metadata": {
  "kernelspec": {
   "display_name": "Python 3",
   "language": "python",
   "name": "python3"
  },
  "language_info": {
   "codemirror_mode": {
    "name": "ipython",
    "version": 3
   },
   "file_extension": ".py",
   "mimetype": "text/x-python",
   "name": "python",
   "nbconvert_exporter": "python",
   "pygments_lexer": "ipython3",
   "version": "3.7.3"
  }
 },
 "nbformat": 4,
 "nbformat_minor": 4
}
