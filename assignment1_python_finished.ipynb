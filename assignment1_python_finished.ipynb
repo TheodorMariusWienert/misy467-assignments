{
 "cells": [
  {
   "cell_type": "markdown",
   "metadata": {},
   "source": [
    "# Python 3.6+\n",
    "We assume you are using Python 3.6+ in this course"
   ]
  },
  {
   "cell_type": "markdown",
   "metadata": {},
   "source": [
    "# Question 1\n",
    "\n",
    "Review list comprehension if needed: https://realpython.com/list-comprehension-python/\n",
    "\n",
    "The formula for list comprehension is: `new_list = [expression for member in iterable (if conditional)]`\n",
    "\n",
    "You need to do the following:\n",
    "1. use a loop to create a list of 5 cube numbers and print the list：[0, 1, 8, 27, 64]\n",
    "2. use list comprehension to create the same list\n",
    "3. find the postions of all vowels in a sentence using list comprehension"
   ]
  },
  {
   "cell_type": "code",
   "execution_count": 1,
   "metadata": {},
   "outputs": [
    {
     "name": "stdout",
     "output_type": "stream",
     "text": [
      "[0, 1, 8, 27, 64]\n"
     ]
    }
   ],
   "source": [
    "# use a loop to create a list\n",
    "cubes = []\n",
    "\n",
    "for x in range(0, 5):\n",
    "    cubes.append(x**3)\n",
    "print(cubes)\n",
    "    "
   ]
  },
  {
   "cell_type": "code",
   "execution_count": 2,
   "metadata": {},
   "outputs": [
    {
     "name": "stdout",
     "output_type": "stream",
     "text": [
      "[0, 1, 8, 27, 64]\n"
     ]
    }
   ],
   "source": [
    "# use list comprehension to create the same list\n",
    "\n",
    "cubes = [ x**3 for x in range(0,5) ]\n",
    "print(cubes)\n",
    "    "
   ]
  },
  {
   "cell_type": "code",
   "execution_count": 3,
   "metadata": {},
   "outputs": [
    {
     "name": "stdout",
     "output_type": "stream",
     "text": [
      "[1, 5, 10, 11, 17, 21, 25, 28, 30, 35, 37, 41, 44]\n"
     ]
    }
   ],
   "source": [
    "# find the positions of all vowels in the following sentence using list comprehension\n",
    "sentence = \"Talk is cheap. Show me the code - Linus Torvalds\"\n",
    "vowel_pos=[i for i, x in enumerate(sentence) if x in  {'a', 'e','i','o','u'}]\n",
    "print(vowel_pos)\n"
   ]
  },
  {
   "cell_type": "markdown",
   "metadata": {},
   "source": [
    "# Question 2\n",
    "You need to use to format strings\n",
    "\n",
    "Write a program using the \"f-strings\" (https://realpython.com/python-f-strings/), conditional statements, user input function to convert temperatures to and from Celsius, Fahrenheit. [Formula: Celsius/5 = (Fahrenheit – 32)/9]\n",
    "\n",
    "Hint: you may need int() function\n",
    "\n",
    "An example program output:\n",
    "```\n",
    "Please enter the temperature: 60\n",
    "Is this Celsius or Fahrenheit? C\n",
    "60C is 140 in Fahrenheit\n",
    "```\n",
    "\n",
    "Another example:\n",
    "```\n",
    "Please enter the temperature: 45\n",
    "Is this Celsius or Fahrenheit? F\n",
    "45F is 7 in Celsius\n",
    "```\n",
    "\n"
   ]
  },
  {
   "cell_type": "code",
   "execution_count": 42,
   "metadata": {},
   "outputs": [
    {
     "name": "stdout",
     "output_type": "stream",
     "text": [
      "What's your name?Theo\n",
      "Welcome! Theo\n"
     ]
    }
   ],
   "source": [
    "# an example of f-strings and user input function\n",
    "username = input('What\\'s your name?')\n",
    "print(f'Welcome! {username}')"
   ]
  },
  {
   "cell_type": "code",
   "execution_count": 5,
   "metadata": {},
   "outputs": [
    {
     "name": "stdout",
     "output_type": "stream",
     "text": [
      "Please enter the temperature 60\n",
      "Is this Celsius or Fahrenheit? C\n",
      "60 C is 140 in Fahrenheit\n"
     ]
    }
   ],
   "source": [
    "# complete your program here\n",
    "temp=None\n",
    "while(temp is None):\n",
    "    temp_input = input('Please enter the temperature ')\n",
    "    try:\n",
    "        temp = float(temp_input)\n",
    "        temp=int(temp)\n",
    "    except ValueError:\n",
    "        temp=None\n",
    "        print(\"Input is not a number. It's a string\")\n",
    "c_or_f=None\n",
    "while(c_or_f is None):\n",
    "    c_or_f_input=input('Is this Celsius or Fahrenheit? ')\n",
    "    c_or_f_input=c_or_f_input.capitalize()\n",
    "    if c_or_f_input in {'F','C'}:\n",
    "        c_or_f=c_or_f_input\n",
    "    else:\n",
    "         print(\"Please enter C or F\")\n",
    "if c_or_f== 'F':\n",
    "    result=((temp-32)/9)*5\n",
    "    result=int(result)\n",
    "    print(f'{temp} {c_or_f} is {result} in Celsius')\n",
    "else:\n",
    "    result=(temp/5)*9+32\n",
    "    result=int(result)\n",
    "    print(f'{temp} {c_or_f} is {result} in Fahrenheit')\n",
    "\n"
   ]
  },
  {
   "cell_type": "code",
   "execution_count": null,
   "metadata": {},
   "outputs": [],
   "source": []
  }
 ],
 "metadata": {
  "kernelspec": {
   "display_name": "Python 3",
   "language": "python",
   "name": "python3"
  },
  "language_info": {
   "codemirror_mode": {
    "name": "ipython",
    "version": 3
   },
   "file_extension": ".py",
   "mimetype": "text/x-python",
   "name": "python",
   "nbconvert_exporter": "python",
   "pygments_lexer": "ipython3",
   "version": "3.7.3"
  }
 },
 "nbformat": 4,
 "nbformat_minor": 4
}
