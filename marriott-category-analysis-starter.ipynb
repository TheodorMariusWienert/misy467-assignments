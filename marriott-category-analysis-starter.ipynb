{
 "cells": [
  {
   "cell_type": "markdown",
   "metadata": {},
   "source": [
    "# Marriott Hotel Category Change 2020 Analysis"
   ]
  },
  {
   "cell_type": "code",
   "execution_count": 48,
   "metadata": {},
   "outputs": [],
   "source": [
    "# import pandas\n",
    "import pandas as pd\n",
    "import numpy as np"
   ]
  },
  {
   "cell_type": "code",
   "execution_count": 49,
   "metadata": {},
   "outputs": [
    {
     "name": "stdout",
     "output_type": "stream",
     "text": [
      "(2185, 7)\n"
     ]
    }
   ],
   "source": [
    "# read data from csv\n",
    "data=pd.read_csv(\"marriott-category-changes-2020.csv\")\n",
    "data.head()\n",
    "print(data.shape)\n"
   ]
  },
  {
   "cell_type": "markdown",
   "metadata": {},
   "source": [
    "## Question 1\n",
    "Discribe the data types for each feature/column, e.g., xxx feature's data type is String, yyy feature's data type is float, etc."
   ]
  },
  {
   "cell_type": "code",
   "execution_count": 50,
   "metadata": {},
   "outputs": [
    {
     "data": {
      "text/plain": [
       "Hotel                     object\n",
       "Brand                     object\n",
       "Destination               object\n",
       "Current Category           int64\n",
       "Current Standard Price     int64\n",
       "New Category               int64\n",
       "New Standard Price         int64\n",
       "dtype: object"
      ]
     },
     "execution_count": 50,
     "metadata": {},
     "output_type": "execute_result"
    }
   ],
   "source": [
    "data.dtypes\n"
   ]
  },
  {
   "cell_type": "markdown",
   "metadata": {},
   "source": [
    "## Question 2\n",
    "- How many hotels are in this dataset?\n",
    "- The hotels are from how many unique brands?\n",
    "- Which destination/country has the most hotels listed in this dataset? List the total number of hotels in that country\n",
    "- How many brands in China have hotel category changes?"
   ]
  },
  {
   "cell_type": "code",
   "execution_count": 51,
   "metadata": {},
   "outputs": [
    {
     "name": "stdout",
     "output_type": "stream",
     "text": [
      "2185\n",
      " \n",
      "30\n",
      " \n",
      "USA          1548\n",
      "Canada         76\n",
      "China          68\n",
      "Spain          34\n",
      "Mexico         26\n",
      "             ... \n",
      "Ethiopia        1\n",
      "Sri Lanka       1\n",
      "Macau           1\n",
      "Suriname        1\n",
      "Lithuania       1\n",
      "Name: Destination, Length: 98, dtype: int64\n",
      " \n",
      "14\n"
     ]
    }
   ],
   "source": [
    "print(data.shape[0])\n",
    "\n",
    "print(\" \")\n",
    "print(data['Brand'].nunique())\n",
    "print(\" \")\n",
    "\n",
    "print(data['Destination'].value_counts())\n",
    "print(\" \")\n",
    "\n",
    "temp=data.query('Destination==\"China\"')\n",
    "temp=temp.query('`New Category` != `Current Category`')\n",
    "print(temp['Brand'].nunique())"
   ]
  },
  {
   "cell_type": "markdown",
   "metadata": {},
   "source": [
    "## Question 3\n",
    "- What's the percentage of hotels worldwide with category upgrade in 2020?"
   ]
  },
  {
   "cell_type": "code",
   "execution_count": 52,
   "metadata": {},
   "outputs": [
    {
     "data": {
      "text/plain": [
       "0.77162471395881"
      ]
     },
     "execution_count": 52,
     "metadata": {},
     "output_type": "execute_result"
    }
   ],
   "source": [
    "data.query('`New Category` >`Current Category`').shape[0]/data.shape[0]"
   ]
  },
  {
   "cell_type": "markdown",
   "metadata": {},
   "source": [
    "## Question 4\n",
    "- List hotels with category changes greater than 1 if any, such as changing from category 3 to 5 or from category 7 to 4\n",
    "- List all JW Marriott hotels in China that have a category upgrade"
   ]
  },
  {
   "cell_type": "code",
   "execution_count": 53,
   "metadata": {},
   "outputs": [
    {
     "data": {
      "text/html": [
       "<div>\n",
       "<style scoped>\n",
       "    .dataframe tbody tr th:only-of-type {\n",
       "        vertical-align: middle;\n",
       "    }\n",
       "\n",
       "    .dataframe tbody tr th {\n",
       "        vertical-align: top;\n",
       "    }\n",
       "\n",
       "    .dataframe thead th {\n",
       "        text-align: right;\n",
       "    }\n",
       "</style>\n",
       "<table border=\"1\" class=\"dataframe\">\n",
       "  <thead>\n",
       "    <tr style=\"text-align: right;\">\n",
       "      <th></th>\n",
       "      <th>Hotel</th>\n",
       "      <th>Brand</th>\n",
       "      <th>Destination</th>\n",
       "      <th>Current Category</th>\n",
       "      <th>Current Standard Price</th>\n",
       "      <th>New Category</th>\n",
       "      <th>New Standard Price</th>\n",
       "    </tr>\n",
       "  </thead>\n",
       "  <tbody>\n",
       "    <tr>\n",
       "      <th>913</th>\n",
       "      <td>Four Points by Sheraton Bali, Ungasan</td>\n",
       "      <td>Four Points</td>\n",
       "      <td>Indonesia</td>\n",
       "      <td>4</td>\n",
       "      <td>25000</td>\n",
       "      <td>2</td>\n",
       "      <td>12500</td>\n",
       "    </tr>\n",
       "  </tbody>\n",
       "</table>\n",
       "</div>"
      ],
      "text/plain": [
       "                                     Hotel        Brand Destination  \\\n",
       "913  Four Points by Sheraton Bali, Ungasan  Four Points   Indonesia   \n",
       "\n",
       "     Current Category  Current Standard Price  New Category  \\\n",
       "913                 4                   25000             2   \n",
       "\n",
       "     New Standard Price  \n",
       "913               12500  "
      ]
     },
     "metadata": {},
     "output_type": "display_data"
    },
    {
     "data": {
      "text/html": [
       "<div>\n",
       "<style scoped>\n",
       "    .dataframe tbody tr th:only-of-type {\n",
       "        vertical-align: middle;\n",
       "    }\n",
       "\n",
       "    .dataframe tbody tr th {\n",
       "        vertical-align: top;\n",
       "    }\n",
       "\n",
       "    .dataframe thead th {\n",
       "        text-align: right;\n",
       "    }\n",
       "</style>\n",
       "<table border=\"1\" class=\"dataframe\">\n",
       "  <thead>\n",
       "    <tr style=\"text-align: right;\">\n",
       "      <th></th>\n",
       "      <th>Hotel</th>\n",
       "      <th>Brand</th>\n",
       "      <th>Destination</th>\n",
       "      <th>Current Category</th>\n",
       "      <th>Current Standard Price</th>\n",
       "      <th>New Category</th>\n",
       "      <th>New Standard Price</th>\n",
       "    </tr>\n",
       "  </thead>\n",
       "  <tbody>\n",
       "    <tr>\n",
       "      <th>1074</th>\n",
       "      <td>JW Marriott Hotel Chengdu</td>\n",
       "      <td>JW Marriott</td>\n",
       "      <td>China</td>\n",
       "      <td>3</td>\n",
       "      <td>17500</td>\n",
       "      <td>4</td>\n",
       "      <td>25000</td>\n",
       "    </tr>\n",
       "    <tr>\n",
       "      <th>1078</th>\n",
       "      <td>JW Marriott Hotel Shenzhen</td>\n",
       "      <td>JW Marriott</td>\n",
       "      <td>China</td>\n",
       "      <td>3</td>\n",
       "      <td>17500</td>\n",
       "      <td>4</td>\n",
       "      <td>25000</td>\n",
       "    </tr>\n",
       "    <tr>\n",
       "      <th>1079</th>\n",
       "      <td>JW Marriott Hotel Shenzhen Bao'an</td>\n",
       "      <td>JW Marriott</td>\n",
       "      <td>China</td>\n",
       "      <td>3</td>\n",
       "      <td>17500</td>\n",
       "      <td>4</td>\n",
       "      <td>25000</td>\n",
       "    </tr>\n",
       "    <tr>\n",
       "      <th>1083</th>\n",
       "      <td>JW Marriott Hotel Zhengzhou</td>\n",
       "      <td>JW Marriott</td>\n",
       "      <td>China</td>\n",
       "      <td>2</td>\n",
       "      <td>12500</td>\n",
       "      <td>3</td>\n",
       "      <td>17500</td>\n",
       "    </tr>\n",
       "  </tbody>\n",
       "</table>\n",
       "</div>"
      ],
      "text/plain": [
       "                                  Hotel        Brand Destination  \\\n",
       "1074          JW Marriott Hotel Chengdu  JW Marriott       China   \n",
       "1078         JW Marriott Hotel Shenzhen  JW Marriott       China   \n",
       "1079  JW Marriott Hotel Shenzhen Bao'an  JW Marriott       China   \n",
       "1083        JW Marriott Hotel Zhengzhou  JW Marriott       China   \n",
       "\n",
       "      Current Category  Current Standard Price  New Category  \\\n",
       "1074                 3                   17500             4   \n",
       "1078                 3                   17500             4   \n",
       "1079                 3                   17500             4   \n",
       "1083                 2                   12500             3   \n",
       "\n",
       "      New Standard Price  \n",
       "1074               25000  \n",
       "1078               25000  \n",
       "1079               25000  \n",
       "1083               17500  "
      ]
     },
     "metadata": {},
     "output_type": "display_data"
    }
   ],
   "source": [
    "display(data.query('`New Category` - `Current Category`> 1 or `New Category` - `Current Category`< -1' ))\n",
    "temp2=data.query('Destination==\"China\"')\n",
    "display (temp2.query('`New Category` > `Current Category` & Brand ==\"JW Marriott\"'))\n"
   ]
  },
  {
   "cell_type": "markdown",
   "metadata": {},
   "source": [
    "## Question 5\n",
    "Assume you are in Feburary 2020 and the category changes will take effect on March 4, 2020. You are planning your trip to Florence, Italy and Hong Kong, China in April. You only stay in category 8 hotel (existing category 8 or future category 8) and want to optimize your point spending. Based on the data, which hotel you should book? when should you book your hotels for Florence and Hong Kong? Why?"
   ]
  },
  {
   "cell_type": "code",
   "execution_count": 54,
   "metadata": {},
   "outputs": [
    {
     "data": {
      "text/html": [
       "<div>\n",
       "<style scoped>\n",
       "    .dataframe tbody tr th:only-of-type {\n",
       "        vertical-align: middle;\n",
       "    }\n",
       "\n",
       "    .dataframe tbody tr th {\n",
       "        vertical-align: top;\n",
       "    }\n",
       "\n",
       "    .dataframe thead th {\n",
       "        text-align: right;\n",
       "    }\n",
       "</style>\n",
       "<table border=\"1\" class=\"dataframe\">\n",
       "  <thead>\n",
       "    <tr style=\"text-align: right;\">\n",
       "      <th></th>\n",
       "      <th>Hotel</th>\n",
       "      <th>Brand</th>\n",
       "      <th>Destination</th>\n",
       "      <th>Current Category</th>\n",
       "      <th>Current Standard Price</th>\n",
       "      <th>New Category</th>\n",
       "      <th>New Standard Price</th>\n",
       "    </tr>\n",
       "  </thead>\n",
       "  <tbody>\n",
       "    <tr>\n",
       "      <th>145</th>\n",
       "      <td>Cervo Hotel, Costa Smeralda Resort</td>\n",
       "      <td>Sheraton</td>\n",
       "      <td>Italy</td>\n",
       "      <td>7</td>\n",
       "      <td>60000</td>\n",
       "      <td>8</td>\n",
       "      <td>85000</td>\n",
       "    </tr>\n",
       "    <tr>\n",
       "      <th>519</th>\n",
       "      <td>Cristallo, a Luxury Collection Resort &amp; Spa, C...</td>\n",
       "      <td>Luxury Collection</td>\n",
       "      <td>Italy</td>\n",
       "      <td>8</td>\n",
       "      <td>85000</td>\n",
       "      <td>7</td>\n",
       "      <td>60000</td>\n",
       "    </tr>\n",
       "    <tr>\n",
       "      <th>1968</th>\n",
       "      <td>The Westin Excelsior, Florence</td>\n",
       "      <td>Westin</td>\n",
       "      <td>Italy</td>\n",
       "      <td>7</td>\n",
       "      <td>60000</td>\n",
       "      <td>8</td>\n",
       "      <td>85000</td>\n",
       "    </tr>\n",
       "    <tr>\n",
       "      <th>2165</th>\n",
       "      <td>W Hong Kong</td>\n",
       "      <td>W Hotels</td>\n",
       "      <td>China</td>\n",
       "      <td>8</td>\n",
       "      <td>85000</td>\n",
       "      <td>7</td>\n",
       "      <td>60000</td>\n",
       "    </tr>\n",
       "  </tbody>\n",
       "</table>\n",
       "</div>"
      ],
      "text/plain": [
       "                                                  Hotel              Brand  \\\n",
       "145                  Cervo Hotel, Costa Smeralda Resort           Sheraton   \n",
       "519   Cristallo, a Luxury Collection Resort & Spa, C...  Luxury Collection   \n",
       "1968                     The Westin Excelsior, Florence             Westin   \n",
       "2165                                        W Hong Kong           W Hotels   \n",
       "\n",
       "     Destination  Current Category  Current Standard Price  New Category  \\\n",
       "145        Italy                 7                   60000             8   \n",
       "519        Italy                 8                   85000             7   \n",
       "1968       Italy                 7                   60000             8   \n",
       "2165       China                 8                   85000             7   \n",
       "\n",
       "      New Standard Price  \n",
       "145                85000  \n",
       "519                60000  \n",
       "1968               85000  \n",
       "2165               60000  "
      ]
     },
     "metadata": {},
     "output_type": "display_data"
    }
   ],
   "source": [
    "temp3=data.query('Destination in [\"China\",\"Italy\"] ')\n",
    "display(temp3.query('`New Category` == 8 or  `Current Category`==8'))"
   ]
  }
 ],
 "metadata": {
  "kernelspec": {
   "display_name": "Python 3",
   "language": "python",
   "name": "python3"
  },
  "language_info": {
   "codemirror_mode": {
    "name": "ipython",
    "version": 3
   },
   "file_extension": ".py",
   "mimetype": "text/x-python",
   "name": "python",
   "nbconvert_exporter": "python",
   "pygments_lexer": "ipython3",
   "version": "3.7.3"
  }
 },
 "nbformat": 4,
 "nbformat_minor": 4
}
