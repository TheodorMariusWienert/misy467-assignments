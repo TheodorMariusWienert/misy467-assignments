{
 "cells": [
  {
   "cell_type": "code",
   "execution_count": 36,
   "metadata": {},
   "outputs": [],
   "source": [
    "import numpy as np\n",
    "import pandas as pd \n",
    "import matplotlib.pyplot as plt"
   ]
  },
  {
   "cell_type": "code",
   "execution_count": 37,
   "metadata": {},
   "outputs": [
    {
     "name": "stdout",
     "output_type": "stream",
     "text": [
      "<class 'pandas.core.frame.DataFrame'>\n",
      "RangeIndex: 891 entries, 0 to 890\n",
      "Data columns (total 12 columns):\n",
      " #   Column       Non-Null Count  Dtype  \n",
      "---  ------       --------------  -----  \n",
      " 0   PassengerId  891 non-null    int64  \n",
      " 1   Survived     891 non-null    int64  \n",
      " 2   Pclass       891 non-null    int64  \n",
      " 3   Name         891 non-null    object \n",
      " 4   Sex          891 non-null    object \n",
      " 5   Age          714 non-null    float64\n",
      " 6   SibSp        891 non-null    int64  \n",
      " 7   Parch        891 non-null    int64  \n",
      " 8   Ticket       891 non-null    object \n",
      " 9   Fare         891 non-null    float64\n",
      " 10  Cabin        204 non-null    object \n",
      " 11  Embarked     889 non-null    object \n",
      "dtypes: float64(2), int64(5), object(5)\n",
      "memory usage: 83.7+ KB\n"
     ]
    }
   ],
   "source": [
    "df=pd.read_csv('titanic_train.csv')\n",
    "df.info()"
   ]
  },
  {
   "cell_type": "code",
   "execution_count": 38,
   "metadata": {},
   "outputs": [
    {
     "name": "stdout",
     "output_type": "stream",
     "text": [
      "<class 'pandas.core.frame.DataFrame'>\n",
      "RangeIndex: 891 entries, 0 to 890\n",
      "Data columns (total 3 columns):\n",
      " #   Column  Non-Null Count  Dtype  \n",
      "---  ------  --------------  -----  \n",
      " 0   SibSp   891 non-null    int64  \n",
      " 1   Parch   891 non-null    int64  \n",
      " 2   Fare    891 non-null    float64\n",
      "dtypes: float64(1), int64(2)\n",
      "memory usage: 21.0 KB\n"
     ]
    }
   ],
   "source": [
    "X=df[['SibSp','Parch','Fare']]\n",
    "y=df['Survived']\n",
    "X.info()"
   ]
  },
  {
   "cell_type": "code",
   "execution_count": 39,
   "metadata": {},
   "outputs": [
    {
     "name": "stdout",
     "output_type": "stream",
     "text": [
      "(712, 3)\n",
      "(179, 3)\n"
     ]
    }
   ],
   "source": [
    "from sklearn.model_selection import train_test_split\n",
    "X_train,X_test,y_train,y_test=train_test_split(X,y,test_size=0.2, random_state=31)\n",
    "print(X_train.shape)\n",
    "print(X_test.shape)"
   ]
  },
  {
   "cell_type": "code",
   "execution_count": 40,
   "metadata": {},
   "outputs": [],
   "source": [
    "from sklearn.tree import DecisionTreeClassifier\n",
    "tree_clf1=DecisionTreeClassifier(criterion='entropy', max_depth=4)"
   ]
  },
  {
   "cell_type": "code",
   "execution_count": 41,
   "metadata": {},
   "outputs": [],
   "source": [
    "from sklearn.model_selection import GridSearchCV\n",
    "\n",
    "param_grid=[\n",
    "    {\n",
    "        'criterion':['gini','entropy'],\n",
    "        'max_depth':[3,5,7,9,11],\n",
    "    }\n",
    "]\n",
    "tree_clf=DecisionTreeClassifier()\n",
    "grid_search=GridSearchCV(tree_clf,param_grid,cv=5,scoring='accuracy',return_train_score=True)"
   ]
  },
  {
   "cell_type": "code",
   "execution_count": 42,
   "metadata": {},
   "outputs": [
    {
     "data": {
      "text/plain": [
       "GridSearchCV(cv=5, error_score=nan,\n",
       "             estimator=DecisionTreeClassifier(ccp_alpha=0.0, class_weight=None,\n",
       "                                              criterion='gini', max_depth=None,\n",
       "                                              max_features=None,\n",
       "                                              max_leaf_nodes=None,\n",
       "                                              min_impurity_decrease=0.0,\n",
       "                                              min_impurity_split=None,\n",
       "                                              min_samples_leaf=1,\n",
       "                                              min_samples_split=2,\n",
       "                                              min_weight_fraction_leaf=0.0,\n",
       "                                              presort='deprecated',\n",
       "                                              random_state=None,\n",
       "                                              splitter='best'),\n",
       "             iid='deprecated', n_jobs=None,\n",
       "             param_grid=[{'criterion': ['gini', 'entropy'],\n",
       "                          'max_depth': [3, 5, 7, 9, 11]}],\n",
       "             pre_dispatch='2*n_jobs', refit=True, return_train_score=True,\n",
       "             scoring='accuracy', verbose=0)"
      ]
     },
     "execution_count": 42,
     "metadata": {},
     "output_type": "execute_result"
    }
   ],
   "source": [
    "grid_search.fit(X_train,y_train)"
   ]
  },
  {
   "cell_type": "code",
   "execution_count": 43,
   "metadata": {},
   "outputs": [
    {
     "data": {
      "text/plain": [
       "{'criterion': 'entropy', 'max_depth': 9}"
      ]
     },
     "execution_count": 43,
     "metadata": {},
     "output_type": "execute_result"
    }
   ],
   "source": [
    "grid_search.best_params_"
   ]
  },
  {
   "cell_type": "code",
   "execution_count": 44,
   "metadata": {},
   "outputs": [
    {
     "data": {
      "text/plain": [
       "{'mean_fit_time': array([0.00249653, 0.00198073, 0.00181851, 0.00169768, 0.00157046,\n",
       "        0.00135369, 0.00142841, 0.00151358, 0.00155978, 0.00165544]),\n",
       " 'std_fit_time': array([2.72862972e-04, 1.42395137e-04, 3.42256825e-05, 6.40530227e-05,\n",
       "        3.95162522e-05, 5.03270843e-05, 2.92481978e-05, 7.81762269e-05,\n",
       "        4.20924338e-05, 1.58480730e-04]),\n",
       " 'mean_score_time': array([0.00108099, 0.00081677, 0.00072331, 0.0006484 , 0.00060697,\n",
       "        0.00057592, 0.00058317, 0.00059733, 0.0005888 , 0.00058532]),\n",
       " 'std_score_time': array([2.13308987e-04, 1.05036782e-04, 1.01728489e-05, 3.02498969e-05,\n",
       "        3.05586777e-05, 1.25187691e-05, 3.69073193e-05, 4.18019506e-05,\n",
       "        4.43900821e-05, 1.57695462e-05]),\n",
       " 'param_criterion': masked_array(data=['gini', 'gini', 'gini', 'gini', 'gini', 'entropy',\n",
       "                    'entropy', 'entropy', 'entropy', 'entropy'],\n",
       "              mask=[False, False, False, False, False, False, False, False,\n",
       "                    False, False],\n",
       "        fill_value='?',\n",
       "             dtype=object),\n",
       " 'param_max_depth': masked_array(data=[3, 5, 7, 9, 11, 3, 5, 7, 9, 11],\n",
       "              mask=[False, False, False, False, False, False, False, False,\n",
       "                    False, False],\n",
       "        fill_value='?',\n",
       "             dtype=object),\n",
       " 'params': [{'criterion': 'gini', 'max_depth': 3},\n",
       "  {'criterion': 'gini', 'max_depth': 5},\n",
       "  {'criterion': 'gini', 'max_depth': 7},\n",
       "  {'criterion': 'gini', 'max_depth': 9},\n",
       "  {'criterion': 'gini', 'max_depth': 11},\n",
       "  {'criterion': 'entropy', 'max_depth': 3},\n",
       "  {'criterion': 'entropy', 'max_depth': 5},\n",
       "  {'criterion': 'entropy', 'max_depth': 7},\n",
       "  {'criterion': 'entropy', 'max_depth': 9},\n",
       "  {'criterion': 'entropy', 'max_depth': 11}],\n",
       " 'split0_test_score': array([0.67132867, 0.70629371, 0.68531469, 0.72727273, 0.72027972,\n",
       "        0.67132867, 0.70629371, 0.68531469, 0.73426573, 0.72727273]),\n",
       " 'split1_test_score': array([0.71328671, 0.68531469, 0.67832168, 0.69230769, 0.6993007 ,\n",
       "        0.72027972, 0.69230769, 0.68531469, 0.6993007 , 0.71328671]),\n",
       " 'split2_test_score': array([0.71830986, 0.72535211, 0.73239437, 0.73239437, 0.71830986,\n",
       "        0.71830986, 0.73943662, 0.73239437, 0.74647887, 0.73239437]),\n",
       " 'split3_test_score': array([0.71830986, 0.78873239, 0.77464789, 0.78873239, 0.76056338,\n",
       "        0.71830986, 0.78169014, 0.78873239, 0.8028169 , 0.76056338]),\n",
       " 'split4_test_score': array([0.69014085, 0.72535211, 0.70422535, 0.71830986, 0.70422535,\n",
       "        0.69014085, 0.70422535, 0.68309859, 0.71126761, 0.71830986]),\n",
       " 'mean_test_score': array([0.70227519, 0.726209  , 0.71498079, 0.73180341, 0.7205358 ,\n",
       "        0.70367379, 0.7247907 , 0.71497094, 0.73882596, 0.73036541]),\n",
       " 'std_test_score': array([0.01865692, 0.0345821 , 0.03522227, 0.03163471, 0.02156009,\n",
       "        0.01966486, 0.03247235, 0.0412775 , 0.03604417, 0.01650828]),\n",
       " 'rank_test_score': array([10,  4,  7,  2,  6,  9,  5,  8,  1,  3], dtype=int32),\n",
       " 'split0_train_score': array([0.69420035, 0.75043937, 0.79261863, 0.82073814, 0.84358524,\n",
       "        0.69420035, 0.7486819 , 0.7943761 , 0.81370826, 0.83655536]),\n",
       " 'split1_train_score': array([0.71704745, 0.76625659, 0.7943761 , 0.82776801, 0.84534271,\n",
       "        0.71353251, 0.76977153, 0.79261863, 0.82073814, 0.84182777]),\n",
       " 'split2_train_score': array([0.71403509, 0.76491228, 0.78596491, 0.8122807 , 0.84210526,\n",
       "        0.71403509, 0.75789474, 0.78245614, 0.80701754, 0.83157895]),\n",
       " 'split3_train_score': array([0.7122807 , 0.74912281, 0.76666667, 0.7877193 , 0.80877193,\n",
       "        0.7122807 , 0.74210526, 0.76491228, 0.78596491, 0.80701754]),\n",
       " 'split4_train_score': array([0.71929825, 0.76315789, 0.7877193 , 0.81929825, 0.84561404,\n",
       "        0.71929825, 0.76140351, 0.78596491, 0.81052632, 0.82807018]),\n",
       " 'mean_train_score': array([0.71137237, 0.75877779, 0.78546912, 0.81356088, 0.83708383,\n",
       "        0.71066938, 0.75597139, 0.78406561, 0.80759103, 0.82900996]),\n",
       " 'std_train_score': array([0.00891986, 0.00742291, 0.00989233, 0.01382533, 0.01421281,\n",
       "        0.00857681, 0.00968563, 0.01051197, 0.01172093, 0.01193632])}"
      ]
     },
     "execution_count": 44,
     "metadata": {},
     "output_type": "execute_result"
    }
   ],
   "source": [
    "grid_search.cv_results_\n"
   ]
  },
  {
   "cell_type": "code",
   "execution_count": 45,
   "metadata": {},
   "outputs": [
    {
     "name": "stdout",
     "output_type": "stream",
     "text": [
      "accuracy is 0.7022751895991333 for parameter combination: {'criterion': 'gini', 'max_depth': 3}\n",
      "accuracy is 0.7262090022653404 for parameter combination: {'criterion': 'gini', 'max_depth': 5}\n",
      "accuracy is 0.7149807938540332 for parameter combination: {'criterion': 'gini', 'max_depth': 7}\n",
      "accuracy is 0.7318034078597458 for parameter combination: {'criterion': 'gini', 'max_depth': 9}\n",
      "accuracy is 0.720535802225943 for parameter combination: {'criterion': 'gini', 'max_depth': 11}\n",
      "accuracy is 0.7036737909977346 for parameter combination: {'criterion': 'entropy', 'max_depth': 3}\n",
      "accuracy is 0.7247907022554909 for parameter combination: {'criterion': 'entropy', 'max_depth': 5}\n",
      "accuracy is 0.7149709445484094 for parameter combination: {'criterion': 'entropy', 'max_depth': 7}\n",
      "accuracy is 0.7388259627696249 for parameter combination: {'criterion': 'entropy', 'max_depth': 9}\n",
      "accuracy is 0.7303654092386487 for parameter combination: {'criterion': 'entropy', 'max_depth': 11}\n"
     ]
    }
   ],
   "source": [
    "for mean_test_score, params in zip(grid_search.cv_results_['mean_test_score'],grid_search.cv_results_['params']):\n",
    "    print(f'accuracy is {mean_test_score} for parameter combination: {params}')"
   ]
  },
  {
   "cell_type": "code",
   "execution_count": 46,
   "metadata": {},
   "outputs": [],
   "source": [
    "tree_clf_best = grid_search.best_estimator_"
   ]
  },
  {
   "cell_type": "code",
   "execution_count": 47,
   "metadata": {},
   "outputs": [],
   "source": [
    "y_predict=tree_clf_best.predict(X_test)"
   ]
  },
  {
   "cell_type": "code",
   "execution_count": 51,
   "metadata": {},
   "outputs": [
    {
     "name": "stdout",
     "output_type": "stream",
     "text": [
      "accuracy score is: 0.6536312849162011\n",
      "precisiom score is: 0.6323529411764706\n",
      "recall score is: 0.5375\n"
     ]
    }
   ],
   "source": [
    "from sklearn.metrics import accuracy_score, precision_score, recall_score\n",
    "print(f'accuracy score is: {accuracy_score(y_test,y_predict)}')\n",
    "print(f'precisiom score is: {precision_score(y_test,y_predict)}')\n",
    "print(f'recall score is: {recall_score(y_test,y_predict)}')"
   ]
  },
  {
   "cell_type": "code",
   "execution_count": null,
   "metadata": {},
   "outputs": [],
   "source": []
  }
 ],
 "metadata": {
  "kernelspec": {
   "display_name": "Python 3",
   "language": "python",
   "name": "python3"
  },
  "language_info": {
   "codemirror_mode": {
    "name": "ipython",
    "version": 3
   },
   "file_extension": ".py",
   "mimetype": "text/x-python",
   "name": "python",
   "nbconvert_exporter": "python",
   "pygments_lexer": "ipython3",
   "version": "3.7.3"
  }
 },
 "nbformat": 4,
 "nbformat_minor": 4
}
